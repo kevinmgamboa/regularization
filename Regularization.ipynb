{
  "nbformat": 4,
  "nbformat_minor": 0,
  "metadata": {
    "colab": {
      "name": "Regularization.ipynb",
      "provenance": [],
      "collapsed_sections": [],
      "toc_visible": true
    },
    "kernelspec": {
      "name": "python3",
      "display_name": "Python 3"
    },
    "accelerator": "GPU"
  },
  "cells": [
    {
      "cell_type": "markdown",
      "metadata": {
        "id": "ijD6fBswN8Wu"
      },
      "source": [
        "# Regularization\n",
        "\n",
        "Modify by: Kevin Machado Gamboa\n",
        "\n",
        "This is a modify version of the regularization notebook from Professor Lyle Ungar. \n",
        "\n",
        "\n",
        "__Instructor:__ Lyle Ungar\n",
        "\n",
        "__Content creators:__ Ravi Teja Konkimalla, Mohitrajhu Lingan Kumaraian"
      ]
    },
    {
      "cell_type": "markdown",
      "metadata": {
        "id": "oI04YQ_2IVm8"
      },
      "source": [
        "#### Ensure you're running a GPU notebook.\n",
        "\n",
        "From \"Runtime\" in the drop-down menu above, click \"Change runtime type\". Ensure that \"Hardware Accelerator\" says \"GPU\".\n",
        "\n",
        "#### Ensure you can save!\n",
        "\n",
        "From \"File\", click \"Save a copy in Drive\""
      ]
    },
    {
      "cell_type": "code",
      "metadata": {
        "id": "MExFAXdn-ZOY"
      },
      "source": [
        "#@title Import functions\n",
        "from __future__ import print_function\n",
        "import torch\n",
        "import pathlib\n",
        "import random\n",
        "import torch.nn as nn\n",
        "import torch.nn.functional as F\n",
        "import torch.optim as optim\n",
        "from torchvision import datasets, transforms\n",
        "from torchvision.datasets import ImageFolder\n",
        "from torch.utils.data import DataLoader, TensorDataset\n",
        "import torch.nn.utils.prune as prune\n",
        "from torch.optim.lr_scheduler import StepLR\n",
        "import time\n",
        "import numpy as np\n",
        "import matplotlib.pyplot as plt\n",
        "import matplotlib.animation as animation\n",
        "import copy\n",
        "from tqdm import tqdm\n",
        "from IPython.display import HTML, display"
      ],
      "execution_count": 2,
      "outputs": []
    },
    {
      "cell_type": "markdown",
      "metadata": {
        "id": "sCGgMRq8XFKl"
      },
      "source": [
        "#Intro: Regularization Overview\n",
        "To be watched **before** the pod meets."
      ]
    },
    {
      "cell_type": "code",
      "metadata": {
        "id": "9T6BXJjHt_V9",
        "cellView": "form",
        "colab": {
          "base_uri": "https://localhost:8080/",
          "height": 519
        },
        "outputId": "95697320-d374-429d-c1a1-a3c5a64d5af9"
      },
      "source": [
        "#@title Video : Introduction to Regularization\n",
        "try: t1;\n",
        "except NameError: t1=time.time()\n",
        "\n",
        "from IPython.display import YouTubeVideo\n",
        "video = YouTubeVideo(id=\"bc1nsP4htVg\", width=854, height=480, fs=1)\n",
        "print(\"Video available at https://youtube.com/watch?v=\" + video.id)\n",
        "\n",
        "video"
      ],
      "execution_count": null,
      "outputs": [
        {
          "output_type": "stream",
          "text": [
            "Video available at https://youtube.com/watch?v=bc1nsP4htVg\n"
          ],
          "name": "stdout"
        },
        {
          "output_type": "execute_result",
          "data": {
            "text/html": [
              "\n",
              "        <iframe\n",
              "            width=\"854\"\n",
              "            height=\"480\"\n",
              "            src=\"https://www.youtube.com/embed/bc1nsP4htVg?fs=1\"\n",
              "            frameborder=\"0\"\n",
              "            allowfullscreen\n",
              "        ></iframe>\n",
              "        "
            ],
            "text/plain": [
              "<IPython.lib.display.YouTubeVideo at 0x7facc453ccc0>"
            ],
            "image/jpeg": "[encoded data removed]"
          },
          "metadata": {
            "tags": []
          },
          "execution_count": 5
        }
      ]
    },
    {
      "cell_type": "code",
      "metadata": {
        "id": "OLIyaJBeIDs1",
        "colab": {
          "base_uri": "https://localhost:8080/",
          "height": 128
        },
        "outputId": "ba08dc68-de8b-46fc-8d42-63e5f4ae0172"
      },
      "source": [
        "** TO MODIFY WITH NMA **\n",
        "\n",
        "#@markdown What is your Pennkey and pod? (text, not numbers, e.g. bfranklin)\n",
        "my_pennkey = 'moji' #@param {type:\"string\"}\n",
        "my_pod = 'discreet-reindeer' #@param ['Select', 'euclidean-wombat', 'sublime-newt', 'buoyant-unicorn', 'lackadaisical-manatee','indelible-stingray','superfluous-lyrebird','discreet-reindeer','quizzical-goldfish','astute-jellyfish','ubiquitous-cheetah','nonchalant-crocodile','fashionable-lemur','spiffy-eagle','electric-emu','quotidian-lion']"
      ],
      "execution_count": 1,
      "outputs": [
        {
          "output_type": "error",
          "ename": "SyntaxError",
          "evalue": "ignored",
          "traceback": [
            "\u001b[0;36m  File \u001b[0;32m\"<ipython-input-1-1a35254feea5>\"\u001b[0;36m, line \u001b[0;32m1\u001b[0m\n\u001b[0;31m    ** TO MODIFY WITH NMA **\u001b[0m\n\u001b[0m     ^\u001b[0m\n\u001b[0;31mSyntaxError\u001b[0m\u001b[0;31m:\u001b[0m invalid syntax\n"
          ]
        }
      ]
    },
    {
      "cell_type": "markdown",
      "metadata": {
        "id": "qH6yOo8LOHFG"
      },
      "source": [
        "---\n",
        "# Learning Objectives\n",
        "\n",
        "To understand \n",
        "\n",
        "1. The KEY concepts around regularization and what it means to regularize\n",
        "2. L1 and L2 Regularization, why and how\n",
        "3. Other ways to regularize NN models\n",
        "  \n",
        "  3.1  Dropout, \n",
        "\n",
        "  3.2  SGD,\n",
        "\n",
        "  3.3  Data Augmentation,\n",
        "\n",
        "  3.4  early stopying\n",
        "\n",
        "\n",
        "\n",
        "--------------------------\n",
        "\n",
        "1.   Big ANNs are efficient universal approximators due to adaptive basis functions\n",
        "2.   ANN’s memorize some but generalize well\n",
        "3.   Regularization as shrinkage of overparameterized models: L1, L2, early stopping\n",
        "4.   Regularization by Dropout\n",
        "5. Regularization by Data Augmentation\n",
        "6. Perils of Hyper-Parameter Tuning\n",
        "7.   Rethinking generalization   "
      ]
    },
    {
      "cell_type": "markdown",
      "metadata": {
        "id": "0LMCVKg3EOSn"
      },
      "source": [
        "## Recap the experience from last week\n",
        "\n",
        "What did you learn last week. What questions do you have? [10 min discussion]"
      ]
    },
    {
      "cell_type": "code",
      "metadata": {
        "id": "0q2tL2Q5CAde"
      },
      "source": [
        "learning_from_previous_week = \"% [][][\\\" \\\"\" #@param {type:\"string\"}"
      ],
      "execution_count": null,
      "outputs": []
    },
    {
      "cell_type": "markdown",
      "metadata": {
        "id": "GvXxa4b2l4m4"
      },
      "source": [
        "# Setup\n",
        "Note that some of the code for today can take up to an hour to run. We have therefore \"hidden\" that code and shown the resulting outputs.\n",
        "\n",
        "[Here](https://docs.google.com/presentation/d/1n4eA5VGG8ab0mkW1kJK5egaldJR4cnpFAHDVbkVPnRI/edit#slide=id.gb88533964a_0_198) are the slides for today's videos (in case you want to take notes). **Do not read them now.**"
      ]
    },
    {
      "cell_type": "code",
      "metadata": {
        "id": "wDBtaMET-fNA",
        "cellView": "form"
      },
      "source": [
        "# @title Figure Settings\n",
        "import ipywidgets as widgets\n",
        "%matplotlib inline \n",
        "fig_w, fig_h = (8, 6)\n",
        "plt.rcParams.update({'figure.figsize': (fig_w, fig_h)})\n",
        "%config InlineBackend.figure_format = 'retina'\n",
        "SMALL_SIZE = 12\n",
        "\n",
        "plt.rcParams.update(plt.rcParamsDefault)\n",
        "plt.rc('animation', html='jshtml')\n",
        "plt.rc('font', size=SMALL_SIZE)          # controls default text sizes\n",
        "plt.rc('axes', titlesize=SMALL_SIZE)     # fontsize of the axes title\n",
        "plt.rc('axes', labelsize=SMALL_SIZE)    # fontsize of the x and y labels\n",
        "plt.rc('xtick', labelsize=SMALL_SIZE)    # fontsize of the tick labels\n",
        "plt.rc('ytick', labelsize=SMALL_SIZE)    # fontsize of the tick labels\n",
        "plt.rc('legend', fontsize=SMALL_SIZE)    # legend fontsize\n",
        "plt.rc('figure', titlesize=SMALL_SIZE)  # fontsize of the figure title"
      ],
      "execution_count": null,
      "outputs": []
    },
    {
      "cell_type": "code",
      "metadata": {
        "id": "1lf_iMdDtkH0"
      },
      "source": [
        "# @title Loading Animal Faces data\n",
        "%%capture\n",
        "!rm -r AnimalFaces32x32/\n",
        "!git clone https://github.com/arashash/AnimalFaces32x32\n",
        "!rm -r afhq/\n",
        "!unzip ./AnimalFaces32x32/afhq_32x32.zip"
      ],
      "execution_count": 3,
      "outputs": []
    },
    {
      "cell_type": "code",
      "metadata": {
        "id": "mvhx88j7e6m2",
        "cellView": "form"
      },
      "source": [
        "# @title Loading Animal Faces Randomized data\n",
        "%%capture\n",
        "!rm -r Animal_faces_random/\n",
        "!git clone https://github.com/Ravi3191/Animal_faces_random.git\n",
        "!rm -r afhq_random_32x32/\n",
        "!unzip ./Animal_faces_random/afhq_random_32x32.zip\n",
        "!rm -r afhq_10_32x32/\n",
        "!unzip ./Animal_faces_random/afhq_10_32x32.zip"
      ],
      "execution_count": null,
      "outputs": []
    },
    {
      "cell_type": "code",
      "metadata": {
        "id": "RMuvvw3VHm1Z"
      },
      "source": [
        "#@title Seeding for Reproducibility\n",
        "seed = 90108\n",
        "random.seed(seed)\n",
        "np.random.seed(seed)\n",
        "torch.manual_seed(seed)\n",
        "torch.cuda.manual_seed(seed)\n",
        "torch.cuda.manual_seed_all(seed)\n",
        "torch.backends.cudnn.deterministic = True\n",
        "torch.backends.cudnn.benchmark = False\n",
        "torch.backends.cudnn.enabled = False\n",
        "# --------------------------------------------\n",
        "torch.torch.use_deterministic_algorithms(True)\n",
        "# --------------------------------------------\n",
        "def seed_worker(worker_id):\n",
        "    worker_seed = seed % (worker_id+1)\n",
        "    np.random.seed(worker_seed)\n",
        "    random.seed(worker_seed)"
      ],
      "execution_count": 4,
      "outputs": []
    },
    {
      "cell_type": "code",
      "metadata": {
        "id": "RxCVV-2yt-GX",
        "cellView": "form"
      },
      "source": [
        "# @title Helper functions\n",
        "def imshow(img):\n",
        "    img = img / 2 + 0.5     # unnormalize\n",
        "    npimg = img.numpy()\n",
        "    plt.imshow(np.transpose(npimg, (1, 2, 0)))\n",
        "    plt.axis(False)\n",
        "    plt.show()"
      ],
      "execution_count": 5,
      "outputs": []
    },
    {
      "cell_type": "markdown",
      "metadata": {
        "id": "RSaZl2xSdALk"
      },
      "source": [
        "Now, lets define a Animal Net model, train, test and main functions which we will use quite frequently this week."
      ]
    },
    {
      "cell_type": "code",
      "metadata": {
        "id": "QSfEJun00dwZ"
      },
      "source": [
        "##Network Class - Animal Faces\n",
        "class Animal_Net(nn.Module):\n",
        "    def __init__(self):\n",
        "        torch.manual_seed(104)\n",
        "        super(Animal_Net, self).__init__()\n",
        "        self.fc1 = nn.Linear(3*32*32, 128)\n",
        "        self.fc2 = nn.Linear(128, 32)\n",
        "        self.fc3 = nn.Linear(32, 3)\n",
        "\n",
        "    def forward(self, x):\n",
        "        x = x.view(x.shape[0],-1)\n",
        "        x = F.relu(self.fc1(x))\n",
        "        x = F.relu(self.fc2(x))\n",
        "        x = self.fc3(x)\n",
        "        output = F.log_softmax(x, dim=1)\n",
        "        return output"
      ],
      "execution_count": 6,
      "outputs": []
    },
    {
      "cell_type": "markdown",
      "metadata": {
        "id": "gXPoWJta6hs8"
      },
      "source": [
        "The train function takes in the current model along with the train_loader and loss function and updates the parameters for a single pass of the entire dataset. The test function takes in the current model after every epoch and calculates the accuracy on the test dataset.\n"
      ]
    },
    {
      "cell_type": "code",
      "metadata": {
        "id": "m6umnH-Znil7"
      },
      "source": [
        "def train(args, model, device, train_loader, optimizer, epoch,reg_function1=None,reg_function2=None,criterion=F.nll_loss):\n",
        "    \"\"\"\n",
        "    Trains the current inpur model using the data \n",
        "    from Train_loader and Updates parameters for a single pass\n",
        "    \"\"\"\n",
        "    model.train()\n",
        "    for batch_idx, (data, target) in enumerate(train_loader):\n",
        "        data, target = data.to(device), target.to(device)\n",
        "        optimizer.zero_grad()\n",
        "        output = model(data)\n",
        "\n",
        "        # --------------------\n",
        "        # Why not calculating the three different losses to compare them?\n",
        "        # We will end up with three copies of models, each with different parameters\n",
        "        # --------------------\n",
        "        if reg_function1 is None:\n",
        "            loss = criterion(output, target)\n",
        "        elif reg_function2 is None:\n",
        "            loss = criterion(output, target)+args['lambda']*reg_function1(model)\n",
        "        else:\n",
        "            loss = criterion(output, target)+args['lambda1']*reg_function1(model)+args['lambda2']*reg_function2(model)\n",
        "        loss.backward()\n",
        "        optimizer.step()\n",
        "        \n",
        "\n",
        "def test(model, device, test_loader, loader = 'Test',criterion=F.nll_loss):\n",
        "    \"\"\"\n",
        "    Tests the current Model\n",
        "    \"\"\"\n",
        "    model.eval()\n",
        "    test_loss = 0\n",
        "    correct = 0\n",
        "    with torch.no_grad():\n",
        "        for data, target in test_loader:\n",
        "            data, target = data.to(device), target.to(device)\n",
        "            output = model(data)\n",
        "            test_loss += criterion(output, target, reduction='sum').item()  # sum up batch loss\n",
        "            pred = output.argmax(dim=1, keepdim=True)  # get the index of the max log-probability\n",
        "            correct += pred.eq(target.view_as(pred)).sum().item()\n",
        "\n",
        "    test_loss /= len(test_loader.dataset)\n",
        "    return 100. * correct / len(test_loader.dataset)\n",
        "\n",
        "def main(args, model,train_loader,val_loader,test_data,reg_function1=None,reg_function2=None,criterion=F.nll_loss):\n",
        "    \"\"\"\n",
        "    Trains the model with train_loader and tests the learned model using val_loader\n",
        "    \"\"\"\n",
        "\n",
        "    use_cuda = not args['no_cuda'] and torch.cuda.is_available()\n",
        "    device = torch.device('cuda' if use_cuda else 'cpu') \n",
        "\n",
        "    model = model.to(device)\n",
        "    optimizer = optim.SGD(model.parameters(), lr=args['lr'], momentum=args['momentum'])\n",
        "\n",
        "    val_acc_list, train_acc_list,param_norm_list = [], [], []\n",
        "    for epoch in tqdm(range(args['epochs'])):\n",
        "        train(args, model, device, train_loader, optimizer, epoch,reg_function1=reg_function1,reg_function2=reg_function2)\n",
        "        train_acc = test(model,device,train_loader, 'Train')\n",
        "        val_acc = test(model,device,val_loader, 'Val')\n",
        "        param_norm = calculate_frobenius_norm(model)\n",
        "        train_acc_list.append(train_acc)\n",
        "        val_acc_list.append(val_acc)\n",
        "        param_norm_list.append(param_norm)\n",
        "\n",
        "    return val_acc_list, train_acc_list, param_norm_list, model, 0"
      ],
      "execution_count": 11,
      "outputs": []
    },
    {
      "cell_type": "markdown",
      "metadata": {
        "id": "2icaflJHWPm1"
      },
      "source": [
        "#Section 1: Regularization is Shrinkage"
      ]
    },
    {
      "cell_type": "code",
      "metadata": {
        "id": "0qn2FpI2Wdgn",
        "cellView": "form",
        "colab": {
          "base_uri": "https://localhost:8080/",
          "height": 519
        },
        "outputId": "31e6c644-3fb8-4e76-c21a-e2b41743f464"
      },
      "source": [
        "#@title Video : Regularization as Shrinkage\n",
        "try: t2;\n",
        "except NameError: t2=time.time()\n",
        "\n",
        "from IPython.display import YouTubeVideo\n",
        "video = YouTubeVideo(id=\"B4CsCKViB3k\", width=854, height=480, fs=1)\n",
        "print(\"Video available at https://youtube.com/watch?v=\" + video.id)\n",
        "\n",
        "video"
      ],
      "execution_count": null,
      "outputs": [
        {
          "output_type": "stream",
          "text": [
            "Video available at https://youtube.com/watch?v=B4CsCKViB3k\n"
          ],
          "name": "stdout"
        },
        {
          "output_type": "execute_result",
          "data": {
            "text/html": [
              "\n",
              "        <iframe\n",
              "            width=\"854\"\n",
              "            height=\"480\"\n",
              "            src=\"https://www.youtube.com/embed/B4CsCKViB3k?fs=1\"\n",
              "            frameborder=\"0\"\n",
              "            allowfullscreen\n",
              "        ></iframe>\n",
              "        "
            ],
            "text/plain": [
              "<IPython.lib.display.YouTubeVideo at 0x7facc453cdd8>"
            ],
            "image/jpeg": "[encoded data removed]"
          },
          "metadata": {
            "tags": []
          },
          "execution_count": 9
        }
      ]
    },
    {
      "cell_type": "markdown",
      "metadata": {
        "id": "aAGlmnIjWrJ7"
      },
      "source": [
        "One way to think about Regularization is to think in terms of the magnitude of the overall weights of the model. A model with big weights can fit more data perfectly. Wheras a model with smaller weights tend to underperform on the train set but can suprisingly do very well on the test set. Too small of a weights can also be as issue an it can the underfit the model.\n",
        "\n",
        "This week we use the sum of Frobenius Norm of all the tensors in the model as a metric to measure the \"size of the model\"."
      ]
    },
    {
      "cell_type": "markdown",
      "metadata": {
        "id": "avenCkhxzgSb"
      },
      "source": [
        "##Exercise 1: Frobenius Norm\n",
        "Before we start let us do a quick recollection of Frobenius Norm. The Frobenius norm, sometimes also called the Euclidean norm (a term unfortunately also used for the vector $L^2$ norm), is **THE** matrix norm of an m×n matrix A defined as the square root of the sum of the absolute squares of its elements.\n",
        "\\begin{equation}\n",
        "||A||_F= \\sqrt(\\sum_{i=1}^m\\sum_{j=1}^n|a_{ij}|^2)\n",
        "\\end{equation} "
      ]
    },
    {
      "cell_type": "code",
      "metadata": {
        "colab": {
          "base_uri": "https://localhost:8080/"
        },
        "id": "790E0X3hjFBo",
        "outputId": "aa280c26-15bb-45a2-b444-feabff5f9a71"
      },
      "source": [
        "model = Animal_Net()\n",
        "model.parameters()"
      ],
      "execution_count": 12,
      "outputs": [
        {
          "output_type": "execute_result",
          "data": {
            "text/plain": [
              "<generator object Module.parameters at 0x7fec8f873d50>"
            ]
          },
          "metadata": {
            "tags": []
          },
          "execution_count": 12
        }
      ]
    },
    {
      "cell_type": "code",
      "metadata": {
        "colab": {
          "base_uri": "https://localhost:8080/",
          "height": 701
        },
        "id": "-YQdbRqhjRnD",
        "outputId": "0b332169-e9c2-4ba2-a3c6-88006d45d3ca"
      },
      "source": [
        "ws, labels = [], []\n",
        "\n",
        "for name, param in model.named_parameters():\n",
        "  print(name)\n",
        "  print(param.size())\n",
        "  print(torch.sum(param).detach().numpy())\n",
        "  ws.append(torch.sum(param).detach().numpy())\n",
        "  labels.append(name)\n",
        "  print('*'*10)\n",
        "\n",
        "plt.figure(figsize=[15,4])\n",
        "plt.title('Weight Size Measurement')\n",
        "plt.ylabel('Sum-Parameters per Layers')\n",
        "plt.bar(labels, ws)\n"
      ],
      "execution_count": 49,
      "outputs": [
        {
          "output_type": "stream",
          "text": [
            "fc1.weight\n",
            "torch.Size([128, 3072])\n",
            "-15.250964\n",
            "**********\n",
            "fc1.bias\n",
            "torch.Size([128])\n",
            "0.0044626035\n",
            "**********\n",
            "fc2.weight\n",
            "torch.Size([32, 128])\n",
            "-4.462653\n",
            "**********\n",
            "fc2.bias\n",
            "torch.Size([32])\n",
            "-0.07474062\n",
            "**********\n",
            "fc3.weight\n",
            "torch.Size([3, 32])\n",
            "0.08208659\n",
            "**********\n",
            "fc3.bias\n",
            "torch.Size([3])\n",
            "-0.3042301\n",
            "**********\n"
          ],
          "name": "stdout"
        },
        {
          "output_type": "execute_result",
          "data": {
            "text/plain": [
              "<BarContainer object of 6 artists>"
            ]
          },
          "metadata": {
            "tags": []
          },
          "execution_count": 49
        },
        {
          "output_type": "display_data",
          "data": {
            "image/png": "[encoded data removed]",
            "text/plain": [
              "<Figure size 1080x288 with 1 Axes>"
            ]
          },
          "metadata": {
            "tags": [],
            "needs_background": "light"
          }
        }
      ]
    },
    {
      "cell_type": "markdown",
      "metadata": {
        "id": "NSi9VW7Tx3eG"
      },
      "source": [
        " **Hint:** Use functions model.parameters() or model.named_parameters()\n"
      ]
    },
    {
      "cell_type": "code",
      "metadata": {
        "id": "gLmcWspCBGFR",
        "colab": {
          "base_uri": "https://localhost:8080/"
        },
        "outputId": "c34ba989-2545-4c03-e3fd-ab7c2734b31a"
      },
      "source": [
        "def calculate_frobenius_norm(model):\n",
        "\n",
        "    ####################################################################\n",
        "    # Fill in all missing code below (...),\n",
        "    # then remove or comment the line below to test your function\n",
        "    ##raise NotImplementedError(\"Define the grad visualization function\")\n",
        "    ####################################################################\n",
        "\n",
        "    norm = 0.0\n",
        "\n",
        "    # Sum all the parameters\n",
        "    for parameters in model.parameters():\n",
        "        norm += torch.sum(parameters**2)  \n",
        "\n",
        "    # Take a square root of the sum of squares of all the parameters\n",
        "    norm = norm**0.5\n",
        "    return norm\n",
        "\n",
        "#uncomment to run\n",
        "net = nn.Linear(10,1)\n",
        "print(f'Frobenius Norm of Single Linear Layer: {calculate_frobenius_norm(net)}')"
      ],
      "execution_count": 43,
      "outputs": [
        {
          "output_type": "stream",
          "text": [
            "Frobenius Norm of Single Linear Layer: 0.6061891913414001\n"
          ],
          "name": "stdout"
        }
      ]
    },
    {
      "cell_type": "markdown",
      "metadata": {
        "id": "8Ngmfrlr2cbG"
      },
      "source": [
        "[Click for solution](https://github.com/CIS-522/course-content/blob/main/tutorials/W05_Regularization/solutions/W5_Tutorial1_Ex01.py)\n",
        "\n",
        "Example Output:\n",
        "\n",
        "\n",
        "![image.png](data:image/png;base64,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)\n",
        "\n",
        "(or)\n",
        "\n",
        "![image.png](data:image/png;base64,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)\n",
        "\n",
        "\n",
        "**Note:**  The numerical value might be different from the value shown here. This is due to random initialization.\n",
        "\n"
      ]
    },
    {
      "cell_type": "markdown",
      "metadata": {
        "id": "_pYQM7QcEV2u"
      },
      "source": [
        "#Section 2: Overfitting\n",
        "(Time Estimate: 30 min from start)"
      ]
    },
    {
      "cell_type": "code",
      "metadata": {
        "id": "GHrk7xaMoFQZ",
        "cellView": "form"
      },
      "source": [
        "#@title Video : Overfitting\n",
        "try: t3;\n",
        "except NameError: t3=time.time()\n",
        "\n",
        "from IPython.display import YouTubeVideo\n",
        "video = YouTubeVideo(id=\"RlaGyRKP2nY\", width=854, height=480, fs=1)\n",
        "print(\"Video available at https://youtube.com/watch?v=\" + video.id)\n",
        "\n",
        "video"
      ],
      "execution_count": null,
      "outputs": []
    },
    {
      "cell_type": "markdown",
      "metadata": {
        "id": "7Lh2KZwvV6kF"
      },
      "source": [
        "##Visualizing Overfitting\n",
        "\n"
      ]
    },
    {
      "cell_type": "markdown",
      "metadata": {
        "id": "lg5stXd0cR6U"
      },
      "source": [
        "Let's create some synthetic dataset that we will use to illustrate overfitting in neural networks."
      ]
    },
    {
      "cell_type": "code",
      "metadata": {
        "id": "qQ-J57s3Ee03",
        "colab": {
          "base_uri": "https://localhost:8080/",
          "height": 295
        },
        "outputId": "64684532-b130-404a-d201-16775ee4ea4a"
      },
      "source": [
        "#creating train data\n",
        "X = torch.rand((10,1))\n",
        "X.sort(dim = 0)\n",
        "Y = 2*X + 2*torch.empty((X.shape[0],1)).normal_(mean=0,std=1) #adding small error in the data\n",
        "\n",
        "X = X.unsqueeze_(1)\n",
        "Y = Y.unsqueeze_(1)\n",
        "\n",
        "#visualizing trian data\n",
        "plt.scatter(X.numpy(),Y.numpy())\n",
        "plt.xlabel('x')\n",
        "plt.ylabel('y')\n",
        "plt.title('toy dataset')\n",
        "plt.show()\n",
        "\n",
        "#creating test dataset\n",
        "X_test = torch.linspace(0,1,40)\n",
        "X_test = X_test.reshape((40,1,1))"
      ],
      "execution_count": 44,
      "outputs": [
        {
          "output_type": "display_data",
          "data": {
            "image/png": "[encoded data removed]",
            "text/plain": [
              "<Figure size 432x288 with 1 Axes>"
            ]
          },
          "metadata": {
            "tags": [],
            "needs_background": "light"
          }
        }
      ]
    },
    {
      "cell_type": "markdown",
      "metadata": {
        "id": "4mU0QnD1tYIH"
      },
      "source": [
        "Let's create an overparametrized NN that can fit on the dataset we just created and train it."
      ]
    },
    {
      "cell_type": "code",
      "metadata": {
        "id": "Pzw7b04rOSpd"
      },
      "source": [
        "##Network Class - 2D\n",
        "class Net(nn.Module):\n",
        "    def __init__(self):\n",
        "        super(Net, self).__init__()\n",
        "\n",
        "        self.fc1 = nn.Linear(1, 300)\n",
        "        self.fc2 = nn.Linear(300, 500)\n",
        "        self.fc3 = nn.Linear(500, 1)\n",
        "\n",
        "    def forward(self, x):\n",
        "        x = F.leaky_relu(self.fc1(x))\n",
        "        x = F.leaky_relu(self.fc2(x))\n",
        "        output = self.fc3(x)\n",
        "        return output"
      ],
      "execution_count": 45,
      "outputs": []
    },
    {
      "cell_type": "code",
      "metadata": {
        "id": "2k5EyBi4to-5"
      },
      "source": [
        "def weight_size_measurement(model):\n",
        "  # Initializing variables\n",
        "  ws, labels = [], []\n",
        "  for name, param in model.named_parameters():\n",
        "    # sum parameters per layer\n",
        "    ws.append(torch.sum(param).detach().numpy())\n",
        "    # save layer names\n",
        "    labels.append(name)\n",
        "\n",
        "  return ws, labels\n",
        "\n",
        "def plot_weight_measurement(ws, labels, title='Weight Size Measurement'):\n",
        "  plt.figure(figsize=[15,4])\n",
        "  plt.title(title)\n",
        "  plt.ylabel('Sum-Parameters per Layers')\n",
        "  plt.bar(labels, ws)"
      ],
      "execution_count": 73,
      "outputs": []
    },
    {
      "cell_type": "code",
      "metadata": {
        "colab": {
          "base_uri": "https://localhost:8080/",
          "height": 281
        },
        "id": "zmOtn8Wksa_0",
        "outputId": "34b9e398-b85d-4806-be58-a69712ee6837"
      },
      "source": [
        "#train the network on toy dataset\n",
        "model = Net()\n",
        "\n",
        "criterion = nn.MSELoss()\n",
        "optimizer = optim.Adam(model.parameters(),lr = 1e-4)\n",
        "max_epochs = 10000\n",
        "iters = 0\n",
        "\n",
        "wsi, label = weight_size_measurement(model)\n",
        "plot_weight_measurement(wsi, label)"
      ],
      "execution_count": 91,
      "outputs": [
        {
          "output_type": "display_data",
          "data": {
            "image/png": "[encoded data removed]",
            "text/plain": [
              "<Figure size 1080x288 with 1 Axes>"
            ]
          },
          "metadata": {
            "tags": [],
            "needs_background": "light"
          }
        }
      ]
    },
    {
      "cell_type": "code",
      "metadata": {
        "id": "bUFGn_PROuvP",
        "colab": {
          "base_uri": "https://localhost:8080/"
        },
        "outputId": "fea57676-927c-4a2f-a58a-f1ddc4864d2d"
      },
      "source": [
        "# Initializing variables to store weights\n",
        "ws = []\n",
        "\n",
        "running_predictions = np.empty((40,(int)(max_epochs/500 + 1)))\n",
        "\n",
        "train_loss = []\n",
        "test_loss = []\n",
        "model_norm = []\n",
        "\n",
        "for epoch in tqdm(range(max_epochs)):\n",
        "\n",
        "    #training\n",
        "    model_norm.append(calculate_frobenius_norm(model))\n",
        "    model.train()\n",
        "    optimizer.zero_grad()\n",
        "    predictions = model(X)\n",
        "    loss = criterion(predictions,Y)\n",
        "    loss.backward()\n",
        "    optimizer.step()\n",
        "\n",
        "    ws.append(np.asarray(weight_size_measurement(model)[0]))\n",
        "\n",
        "\n",
        "\n",
        "    train_loss.append(loss.data)\n",
        "    model.eval()\n",
        "    Y_test = model(X_test)\n",
        "    loss = criterion(Y_test,2*X_test)\n",
        "    test_loss.append(loss.data)\n",
        "\n",
        "    if(epoch % 500 == 0 or epoch == max_epochs - 1):\n",
        "        running_predictions[:,iters] = Y_test[:,0,0].detach().numpy()\n",
        "        iters += 1"
      ],
      "execution_count": 92,
      "outputs": [
        {
          "output_type": "stream",
          "text": [
            "100%|██████████| 10000/10000 [00:23<00:00, 420.92it/s]\n"
          ],
          "name": "stderr"
        }
      ]
    },
    {
      "cell_type": "code",
      "metadata": {
        "colab": {
          "base_uri": "https://localhost:8080/"
        },
        "id": "veVlGGbNFJfI",
        "outputId": "f64d71e4-1712-4a24-e21d-0816f97a6af7"
      },
      "source": [
        "!pip install bar_chart_race"
      ],
      "execution_count": 113,
      "outputs": [
        {
          "output_type": "stream",
          "text": [
            "Requirement already satisfied: bar_chart_race in /usr/local/lib/python3.7/dist-packages (0.1.0)\n",
            "Requirement already satisfied: matplotlib>=3.1 in /usr/local/lib/python3.7/dist-packages (from bar_chart_race) (3.2.2)\n",
            "Requirement already satisfied: pandas>=0.24 in /usr/local/lib/python3.7/dist-packages (from bar_chart_race) (1.1.5)\n",
            "Requirement already satisfied: pyparsing!=2.0.4,!=2.1.2,!=2.1.6,>=2.0.1 in /usr/local/lib/python3.7/dist-packages (from matplotlib>=3.1->bar_chart_race) (2.4.7)\n",
            "Requirement already satisfied: cycler>=0.10 in /usr/local/lib/python3.7/dist-packages (from matplotlib>=3.1->bar_chart_race) (0.10.0)\n",
            "Requirement already satisfied: kiwisolver>=1.0.1 in /usr/local/lib/python3.7/dist-packages (from matplotlib>=3.1->bar_chart_race) (1.3.1)\n",
            "Requirement already satisfied: numpy>=1.11 in /usr/local/lib/python3.7/dist-packages (from matplotlib>=3.1->bar_chart_race) (1.19.5)\n",
            "Requirement already satisfied: python-dateutil>=2.1 in /usr/local/lib/python3.7/dist-packages (from matplotlib>=3.1->bar_chart_race) (2.8.1)\n",
            "Requirement already satisfied: pytz>=2017.2 in /usr/local/lib/python3.7/dist-packages (from pandas>=0.24->bar_chart_race) (2018.9)\n",
            "Requirement already satisfied: six in /usr/local/lib/python3.7/dist-packages (from cycler>=0.10->matplotlib>=3.1->bar_chart_race) (1.15.0)\n"
          ],
          "name": "stdout"
        }
      ]
    },
    {
      "cell_type": "code",
      "metadata": {
        "id": "mAjfnVnEG6Ss"
      },
      "source": [
        "pdws=pd.DataFrame(ws, columns=labels)"
      ],
      "execution_count": 114,
      "outputs": []
    },
    {
      "cell_type": "code",
      "metadata": {
        "colab": {
          "base_uri": "https://localhost:8080/",
          "height": 656
        },
        "id": "Z8YKc66vDZfy",
        "outputId": "3563dd8b-8024-45e2-f97b-1f59f96b1a51"
      },
      "source": [
        "import pandas as pd\n",
        "pd.DataFrame(ws, columns=labels)\n",
        "import bar_chart_race as bcr\n",
        "df = bcr.load_dataset('covid19_tutorial')\n",
        "bcr.bar_chart_race(pd.DataFrame(ws, columns=labels))"
      ],
      "execution_count": 112,
      "outputs": [
        {
          "output_type": "error",
          "ename": "Exception",
          "evalue": "ignored",
          "traceback": [
            "\u001b[0;31m---------------------------------------------------------------------------\u001b[0m",
            "\u001b[0;31mKeyboardInterrupt\u001b[0m                         Traceback (most recent call last)",
            "\u001b[0;32m/usr/local/lib/python3.7/dist-packages/matplotlib/animation.py\u001b[0m in \u001b[0;36msaving\u001b[0;34m(self, fig, outfile, dpi, *args, **kwargs)\u001b[0m\n\u001b[1;32m    229\u001b[0m         \u001b[0;32mtry\u001b[0m\u001b[0;34m:\u001b[0m\u001b[0;34m\u001b[0m\u001b[0;34m\u001b[0m\u001b[0m\n\u001b[0;32m--> 230\u001b[0;31m             \u001b[0;32myield\u001b[0m \u001b[0mself\u001b[0m\u001b[0;34m\u001b[0m\u001b[0;34m\u001b[0m\u001b[0m\n\u001b[0m\u001b[1;32m    231\u001b[0m         \u001b[0;32mfinally\u001b[0m\u001b[0;34m:\u001b[0m\u001b[0;34m\u001b[0m\u001b[0;34m\u001b[0m\u001b[0m\n",
            "\u001b[0;32m/usr/local/lib/python3.7/dist-packages/matplotlib/animation.py\u001b[0m in \u001b[0;36msave\u001b[0;34m(self, filename, writer, fps, dpi, codec, bitrate, extra_args, metadata, extra_anim, savefig_kwargs, progress_callback)\u001b[0m\n\u001b[1;32m   1151\u001b[0m                             \u001b[0mframe_number\u001b[0m \u001b[0;34m+=\u001b[0m \u001b[0;36m1\u001b[0m\u001b[0;34m\u001b[0m\u001b[0;34m\u001b[0m\u001b[0m\n\u001b[0;32m-> 1152\u001b[0;31m                     \u001b[0mwriter\u001b[0m\u001b[0;34m.\u001b[0m\u001b[0mgrab_frame\u001b[0m\u001b[0;34m(\u001b[0m\u001b[0;34m**\u001b[0m\u001b[0msavefig_kwargs\u001b[0m\u001b[0;34m)\u001b[0m\u001b[0;34m\u001b[0m\u001b[0;34m\u001b[0m\u001b[0m\n\u001b[0m\u001b[1;32m   1153\u001b[0m \u001b[0;34m\u001b[0m\u001b[0m\n",
            "\u001b[0;32m/usr/local/lib/python3.7/dist-packages/matplotlib/animation.py\u001b[0m in \u001b[0;36mgrab_frame\u001b[0;34m(self, **savefig_kwargs)\u001b[0m\n\u001b[1;32m    384\u001b[0m         self.fig.savefig(self._frame_sink(), format=self.frame_format,\n\u001b[0;32m--> 385\u001b[0;31m                          dpi=self.dpi, **savefig_kwargs)\n\u001b[0m\u001b[1;32m    386\u001b[0m \u001b[0;34m\u001b[0m\u001b[0m\n",
            "\u001b[0;32m/usr/local/lib/python3.7/dist-packages/matplotlib/figure.py\u001b[0m in \u001b[0;36msavefig\u001b[0;34m(self, fname, transparent, **kwargs)\u001b[0m\n\u001b[1;32m   2202\u001b[0m \u001b[0;34m\u001b[0m\u001b[0m\n\u001b[0;32m-> 2203\u001b[0;31m         \u001b[0mself\u001b[0m\u001b[0;34m.\u001b[0m\u001b[0mcanvas\u001b[0m\u001b[0;34m.\u001b[0m\u001b[0mprint_figure\u001b[0m\u001b[0;34m(\u001b[0m\u001b[0mfname\u001b[0m\u001b[0;34m,\u001b[0m \u001b[0;34m**\u001b[0m\u001b[0mkwargs\u001b[0m\u001b[0;34m)\u001b[0m\u001b[0;34m\u001b[0m\u001b[0;34m\u001b[0m\u001b[0m\n\u001b[0m\u001b[1;32m   2204\u001b[0m \u001b[0;34m\u001b[0m\u001b[0m\n",
            "\u001b[0;32m/usr/local/lib/python3.7/dist-packages/matplotlib/backend_bases.py\u001b[0m in \u001b[0;36mprint_figure\u001b[0;34m(self, filename, dpi, facecolor, edgecolor, orientation, format, bbox_inches, **kwargs)\u001b[0m\n\u001b[1;32m   2125\u001b[0m                     \u001b[0mbbox_inches_restore\u001b[0m\u001b[0;34m=\u001b[0m\u001b[0m_bbox_inches_restore\u001b[0m\u001b[0;34m,\u001b[0m\u001b[0;34m\u001b[0m\u001b[0;34m\u001b[0m\u001b[0m\n\u001b[0;32m-> 2126\u001b[0;31m                     **kwargs)\n\u001b[0m\u001b[1;32m   2127\u001b[0m             \u001b[0;32mfinally\u001b[0m\u001b[0;34m:\u001b[0m\u001b[0;34m\u001b[0m\u001b[0;34m\u001b[0m\u001b[0m\n",
            "\u001b[0;32m/usr/local/lib/python3.7/dist-packages/matplotlib/backends/backend_agg.py\u001b[0m in \u001b[0;36mprint_raw\u001b[0;34m(self, filename_or_obj, *args, **kwargs)\u001b[0m\n\u001b[1;32m    446\u001b[0m     \u001b[0;32mdef\u001b[0m \u001b[0mprint_raw\u001b[0m\u001b[0;34m(\u001b[0m\u001b[0mself\u001b[0m\u001b[0;34m,\u001b[0m \u001b[0mfilename_or_obj\u001b[0m\u001b[0;34m,\u001b[0m \u001b[0;34m*\u001b[0m\u001b[0margs\u001b[0m\u001b[0;34m,\u001b[0m \u001b[0;34m**\u001b[0m\u001b[0mkwargs\u001b[0m\u001b[0;34m)\u001b[0m\u001b[0;34m:\u001b[0m\u001b[0;34m\u001b[0m\u001b[0;34m\u001b[0m\u001b[0m\n\u001b[0;32m--> 447\u001b[0;31m         \u001b[0mFigureCanvasAgg\u001b[0m\u001b[0;34m.\u001b[0m\u001b[0mdraw\u001b[0m\u001b[0;34m(\u001b[0m\u001b[0mself\u001b[0m\u001b[0;34m)\u001b[0m\u001b[0;34m\u001b[0m\u001b[0;34m\u001b[0m\u001b[0m\n\u001b[0m\u001b[1;32m    448\u001b[0m         \u001b[0mrenderer\u001b[0m \u001b[0;34m=\u001b[0m \u001b[0mself\u001b[0m\u001b[0;34m.\u001b[0m\u001b[0mget_renderer\u001b[0m\u001b[0;34m(\u001b[0m\u001b[0;34m)\u001b[0m\u001b[0;34m\u001b[0m\u001b[0;34m\u001b[0m\u001b[0m\n",
            "\u001b[0;32m/usr/local/lib/python3.7/dist-packages/matplotlib/backends/backend_agg.py\u001b[0m in \u001b[0;36mdraw\u001b[0;34m(self)\u001b[0m\n\u001b[1;32m    392\u001b[0m               else nullcontext()):\n\u001b[0;32m--> 393\u001b[0;31m             \u001b[0mself\u001b[0m\u001b[0;34m.\u001b[0m\u001b[0mfigure\u001b[0m\u001b[0;34m.\u001b[0m\u001b[0mdraw\u001b[0m\u001b[0;34m(\u001b[0m\u001b[0mself\u001b[0m\u001b[0;34m.\u001b[0m\u001b[0mrenderer\u001b[0m\u001b[0;34m)\u001b[0m\u001b[0;34m\u001b[0m\u001b[0;34m\u001b[0m\u001b[0m\n\u001b[0m\u001b[1;32m    394\u001b[0m             \u001b[0;31m# A GUI class may be need to update a window using this draw, so\u001b[0m\u001b[0;34m\u001b[0m\u001b[0;34m\u001b[0m\u001b[0;34m\u001b[0m\u001b[0m\n",
            "\u001b[0;32m/usr/local/lib/python3.7/dist-packages/matplotlib/artist.py\u001b[0m in \u001b[0;36mdraw_wrapper\u001b[0;34m(artist, renderer, *args, **kwargs)\u001b[0m\n\u001b[1;32m     37\u001b[0m \u001b[0;34m\u001b[0m\u001b[0m\n\u001b[0;32m---> 38\u001b[0;31m             \u001b[0;32mreturn\u001b[0m \u001b[0mdraw\u001b[0m\u001b[0;34m(\u001b[0m\u001b[0martist\u001b[0m\u001b[0;34m,\u001b[0m \u001b[0mrenderer\u001b[0m\u001b[0;34m,\u001b[0m \u001b[0;34m*\u001b[0m\u001b[0margs\u001b[0m\u001b[0;34m,\u001b[0m \u001b[0;34m**\u001b[0m\u001b[0mkwargs\u001b[0m\u001b[0;34m)\u001b[0m\u001b[0;34m\u001b[0m\u001b[0;34m\u001b[0m\u001b[0m\n\u001b[0m\u001b[1;32m     39\u001b[0m         \u001b[0;32mfinally\u001b[0m\u001b[0;34m:\u001b[0m\u001b[0;34m\u001b[0m\u001b[0;34m\u001b[0m\u001b[0m\n",
            "\u001b[0;32m/usr/local/lib/python3.7/dist-packages/matplotlib/figure.py\u001b[0m in \u001b[0;36mdraw\u001b[0;34m(self, renderer)\u001b[0m\n\u001b[1;32m   1735\u001b[0m             mimage._draw_list_compositing_images(\n\u001b[0;32m-> 1736\u001b[0;31m                 renderer, self, artists, self.suppressComposite)\n\u001b[0m\u001b[1;32m   1737\u001b[0m \u001b[0;34m\u001b[0m\u001b[0m\n",
            "\u001b[0;32m/usr/local/lib/python3.7/dist-packages/matplotlib/image.py\u001b[0m in \u001b[0;36m_draw_list_compositing_images\u001b[0;34m(renderer, parent, artists, suppress_composite)\u001b[0m\n\u001b[1;32m    136\u001b[0m         \u001b[0;32mfor\u001b[0m \u001b[0ma\u001b[0m \u001b[0;32min\u001b[0m \u001b[0martists\u001b[0m\u001b[0;34m:\u001b[0m\u001b[0;34m\u001b[0m\u001b[0;34m\u001b[0m\u001b[0m\n\u001b[0;32m--> 137\u001b[0;31m             \u001b[0ma\u001b[0m\u001b[0;34m.\u001b[0m\u001b[0mdraw\u001b[0m\u001b[0;34m(\u001b[0m\u001b[0mrenderer\u001b[0m\u001b[0;34m)\u001b[0m\u001b[0;34m\u001b[0m\u001b[0;34m\u001b[0m\u001b[0m\n\u001b[0m\u001b[1;32m    138\u001b[0m     \u001b[0;32melse\u001b[0m\u001b[0;34m:\u001b[0m\u001b[0;34m\u001b[0m\u001b[0;34m\u001b[0m\u001b[0m\n",
            "\u001b[0;32m/usr/local/lib/python3.7/dist-packages/matplotlib/artist.py\u001b[0m in \u001b[0;36mdraw_wrapper\u001b[0;34m(artist, renderer, *args, **kwargs)\u001b[0m\n\u001b[1;32m     37\u001b[0m \u001b[0;34m\u001b[0m\u001b[0m\n\u001b[0;32m---> 38\u001b[0;31m             \u001b[0;32mreturn\u001b[0m \u001b[0mdraw\u001b[0m\u001b[0;34m(\u001b[0m\u001b[0martist\u001b[0m\u001b[0;34m,\u001b[0m \u001b[0mrenderer\u001b[0m\u001b[0;34m,\u001b[0m \u001b[0;34m*\u001b[0m\u001b[0margs\u001b[0m\u001b[0;34m,\u001b[0m \u001b[0;34m**\u001b[0m\u001b[0mkwargs\u001b[0m\u001b[0;34m)\u001b[0m\u001b[0;34m\u001b[0m\u001b[0;34m\u001b[0m\u001b[0m\n\u001b[0m\u001b[1;32m     39\u001b[0m         \u001b[0;32mfinally\u001b[0m\u001b[0;34m:\u001b[0m\u001b[0;34m\u001b[0m\u001b[0;34m\u001b[0m\u001b[0m\n",
            "\u001b[0;32m/usr/local/lib/python3.7/dist-packages/matplotlib/axes/_base.py\u001b[0m in \u001b[0;36mdraw\u001b[0;34m(self, renderer, inframe)\u001b[0m\n\u001b[1;32m   2629\u001b[0m \u001b[0;34m\u001b[0m\u001b[0m\n\u001b[0;32m-> 2630\u001b[0;31m         \u001b[0mmimage\u001b[0m\u001b[0;34m.\u001b[0m\u001b[0m_draw_list_compositing_images\u001b[0m\u001b[0;34m(\u001b[0m\u001b[0mrenderer\u001b[0m\u001b[0;34m,\u001b[0m \u001b[0mself\u001b[0m\u001b[0;34m,\u001b[0m \u001b[0martists\u001b[0m\u001b[0;34m)\u001b[0m\u001b[0;34m\u001b[0m\u001b[0;34m\u001b[0m\u001b[0m\n\u001b[0m\u001b[1;32m   2631\u001b[0m \u001b[0;34m\u001b[0m\u001b[0m\n",
            "\u001b[0;32m/usr/local/lib/python3.7/dist-packages/matplotlib/image.py\u001b[0m in \u001b[0;36m_draw_list_compositing_images\u001b[0;34m(renderer, parent, artists, suppress_composite)\u001b[0m\n\u001b[1;32m    136\u001b[0m         \u001b[0;32mfor\u001b[0m \u001b[0ma\u001b[0m \u001b[0;32min\u001b[0m \u001b[0martists\u001b[0m\u001b[0;34m:\u001b[0m\u001b[0;34m\u001b[0m\u001b[0;34m\u001b[0m\u001b[0m\n\u001b[0;32m--> 137\u001b[0;31m             \u001b[0ma\u001b[0m\u001b[0;34m.\u001b[0m\u001b[0mdraw\u001b[0m\u001b[0;34m(\u001b[0m\u001b[0mrenderer\u001b[0m\u001b[0;34m)\u001b[0m\u001b[0;34m\u001b[0m\u001b[0;34m\u001b[0m\u001b[0m\n\u001b[0m\u001b[1;32m    138\u001b[0m     \u001b[0;32melse\u001b[0m\u001b[0;34m:\u001b[0m\u001b[0;34m\u001b[0m\u001b[0;34m\u001b[0m\u001b[0m\n",
            "\u001b[0;32m/usr/local/lib/python3.7/dist-packages/matplotlib/artist.py\u001b[0m in \u001b[0;36mdraw_wrapper\u001b[0;34m(artist, renderer, *args, **kwargs)\u001b[0m\n\u001b[1;32m     37\u001b[0m \u001b[0;34m\u001b[0m\u001b[0m\n\u001b[0;32m---> 38\u001b[0;31m             \u001b[0;32mreturn\u001b[0m \u001b[0mdraw\u001b[0m\u001b[0;34m(\u001b[0m\u001b[0martist\u001b[0m\u001b[0;34m,\u001b[0m \u001b[0mrenderer\u001b[0m\u001b[0;34m,\u001b[0m \u001b[0;34m*\u001b[0m\u001b[0margs\u001b[0m\u001b[0;34m,\u001b[0m \u001b[0;34m**\u001b[0m\u001b[0mkwargs\u001b[0m\u001b[0;34m)\u001b[0m\u001b[0;34m\u001b[0m\u001b[0;34m\u001b[0m\u001b[0m\n\u001b[0m\u001b[1;32m     39\u001b[0m         \u001b[0;32mfinally\u001b[0m\u001b[0;34m:\u001b[0m\u001b[0;34m\u001b[0m\u001b[0;34m\u001b[0m\u001b[0m\n",
            "\u001b[0;32m/usr/local/lib/python3.7/dist-packages/matplotlib/text.py\u001b[0m in \u001b[0;36mdraw\u001b[0;34m(self, renderer)\u001b[0m\n\u001b[1;32m    684\u001b[0m         \u001b[0;32mwith\u001b[0m \u001b[0m_wrap_text\u001b[0m\u001b[0;34m(\u001b[0m\u001b[0mself\u001b[0m\u001b[0;34m)\u001b[0m \u001b[0;32mas\u001b[0m \u001b[0mtextobj\u001b[0m\u001b[0;34m:\u001b[0m\u001b[0;34m\u001b[0m\u001b[0;34m\u001b[0m\u001b[0m\n\u001b[0;32m--> 685\u001b[0;31m             \u001b[0mbbox\u001b[0m\u001b[0;34m,\u001b[0m \u001b[0minfo\u001b[0m\u001b[0;34m,\u001b[0m \u001b[0mdescent\u001b[0m \u001b[0;34m=\u001b[0m \u001b[0mtextobj\u001b[0m\u001b[0;34m.\u001b[0m\u001b[0m_get_layout\u001b[0m\u001b[0;34m(\u001b[0m\u001b[0mrenderer\u001b[0m\u001b[0;34m)\u001b[0m\u001b[0;34m\u001b[0m\u001b[0;34m\u001b[0m\u001b[0m\n\u001b[0m\u001b[1;32m    686\u001b[0m             \u001b[0mtrans\u001b[0m \u001b[0;34m=\u001b[0m \u001b[0mtextobj\u001b[0m\u001b[0;34m.\u001b[0m\u001b[0mget_transform\u001b[0m\u001b[0;34m(\u001b[0m\u001b[0;34m)\u001b[0m\u001b[0;34m\u001b[0m\u001b[0;34m\u001b[0m\u001b[0m\n",
            "\u001b[0;32m/usr/local/lib/python3.7/dist-packages/matplotlib/text.py\u001b[0m in \u001b[0;36m_get_layout\u001b[0;34m(self, renderer)\u001b[0m\n\u001b[1;32m    277\u001b[0m         \"\"\"\n\u001b[0;32m--> 278\u001b[0;31m         \u001b[0mkey\u001b[0m \u001b[0;34m=\u001b[0m \u001b[0mself\u001b[0m\u001b[0;34m.\u001b[0m\u001b[0mget_prop_tup\u001b[0m\u001b[0;34m(\u001b[0m\u001b[0mrenderer\u001b[0m\u001b[0;34m=\u001b[0m\u001b[0mrenderer\u001b[0m\u001b[0;34m)\u001b[0m\u001b[0;34m\u001b[0m\u001b[0;34m\u001b[0m\u001b[0m\n\u001b[0m\u001b[1;32m    279\u001b[0m         \u001b[0;32mif\u001b[0m \u001b[0mkey\u001b[0m \u001b[0;32min\u001b[0m \u001b[0mself\u001b[0m\u001b[0;34m.\u001b[0m\u001b[0m_cached\u001b[0m\u001b[0;34m:\u001b[0m\u001b[0;34m\u001b[0m\u001b[0;34m\u001b[0m\u001b[0m\n",
            "\u001b[0;32m/usr/local/lib/python3.7/dist-packages/matplotlib/text.py\u001b[0m in \u001b[0;36mget_prop_tup\u001b[0;34m(self, renderer)\u001b[0m\n\u001b[1;32m    851\u001b[0m                 \u001b[0mself\u001b[0m\u001b[0;34m.\u001b[0m\u001b[0m_rotation\u001b[0m\u001b[0;34m,\u001b[0m \u001b[0mself\u001b[0m\u001b[0;34m.\u001b[0m\u001b[0m_rotation_mode\u001b[0m\u001b[0;34m,\u001b[0m\u001b[0;34m\u001b[0m\u001b[0;34m\u001b[0m\u001b[0m\n\u001b[0;32m--> 852\u001b[0;31m                 \u001b[0mself\u001b[0m\u001b[0;34m.\u001b[0m\u001b[0mfigure\u001b[0m\u001b[0;34m.\u001b[0m\u001b[0mdpi\u001b[0m\u001b[0;34m,\u001b[0m \u001b[0mweakref\u001b[0m\u001b[0;34m.\u001b[0m\u001b[0mref\u001b[0m\u001b[0;34m(\u001b[0m\u001b[0mrenderer\u001b[0m\u001b[0;34m)\u001b[0m\u001b[0;34m,\u001b[0m\u001b[0;34m\u001b[0m\u001b[0;34m\u001b[0m\u001b[0m\n\u001b[0m\u001b[1;32m    853\u001b[0m                 \u001b[0mself\u001b[0m\u001b[0;34m.\u001b[0m\u001b[0m_linespacing\u001b[0m\u001b[0;34m\u001b[0m\u001b[0;34m\u001b[0m\u001b[0m\n",
            "\u001b[0;32m/usr/local/lib/python3.7/dist-packages/matplotlib/figure.py\u001b[0m in \u001b[0;36m_get_dpi\u001b[0;34m(self)\u001b[0m\n\u001b[1;32m    463\u001b[0m     \u001b[0;32mdef\u001b[0m \u001b[0m_get_dpi\u001b[0m\u001b[0;34m(\u001b[0m\u001b[0mself\u001b[0m\u001b[0;34m)\u001b[0m\u001b[0;34m:\u001b[0m\u001b[0;34m\u001b[0m\u001b[0;34m\u001b[0m\u001b[0m\n\u001b[0;32m--> 464\u001b[0;31m         \u001b[0;32mreturn\u001b[0m \u001b[0mself\u001b[0m\u001b[0;34m.\u001b[0m\u001b[0m_dpi\u001b[0m\u001b[0;34m\u001b[0m\u001b[0;34m\u001b[0m\u001b[0m\n\u001b[0m\u001b[1;32m    465\u001b[0m \u001b[0;34m\u001b[0m\u001b[0m\n",
            "\u001b[0;31mKeyboardInterrupt\u001b[0m: ",
            "\nDuring handling of the above exception, another exception occurred:\n",
            "\u001b[0;31mCalledProcessError\u001b[0m                        Traceback (most recent call last)",
            "\u001b[0;32m/usr/local/lib/python3.7/dist-packages/bar_chart_race/_make_chart.py\u001b[0m in \u001b[0;36mmake_animation\u001b[0;34m(self)\u001b[0m\n\u001b[1;32m    427\u001b[0m             \u001b[0;32mif\u001b[0m \u001b[0mself\u001b[0m\u001b[0;34m.\u001b[0m\u001b[0mhtml\u001b[0m\u001b[0;34m:\u001b[0m\u001b[0;34m\u001b[0m\u001b[0;34m\u001b[0m\u001b[0m\n\u001b[0;32m--> 428\u001b[0;31m                 \u001b[0mret_val\u001b[0m \u001b[0;34m=\u001b[0m \u001b[0manim\u001b[0m\u001b[0;34m.\u001b[0m\u001b[0mto_html5_video\u001b[0m\u001b[0;34m(\u001b[0m\u001b[0;34m)\u001b[0m\u001b[0;34m\u001b[0m\u001b[0;34m\u001b[0m\u001b[0m\n\u001b[0m\u001b[1;32m    429\u001b[0m                 \u001b[0;32mtry\u001b[0m\u001b[0;34m:\u001b[0m\u001b[0;34m\u001b[0m\u001b[0;34m\u001b[0m\u001b[0m\n",
            "\u001b[0;32m/usr/local/lib/python3.7/dist-packages/matplotlib/animation.py\u001b[0m in \u001b[0;36mto_html5_video\u001b[0;34m(self, embed_limit)\u001b[0m\n\u001b[1;32m   1331\u001b[0m                                 fps=1000. / self._interval)\n\u001b[0;32m-> 1332\u001b[0;31m                 \u001b[0mself\u001b[0m\u001b[0;34m.\u001b[0m\u001b[0msave\u001b[0m\u001b[0;34m(\u001b[0m\u001b[0mstr\u001b[0m\u001b[0;34m(\u001b[0m\u001b[0mpath\u001b[0m\u001b[0;34m)\u001b[0m\u001b[0;34m,\u001b[0m \u001b[0mwriter\u001b[0m\u001b[0;34m=\u001b[0m\u001b[0mwriter\u001b[0m\u001b[0;34m)\u001b[0m\u001b[0;34m\u001b[0m\u001b[0;34m\u001b[0m\u001b[0m\n\u001b[0m\u001b[1;32m   1333\u001b[0m                 \u001b[0;31m# Now open and base64 encode.\u001b[0m\u001b[0;34m\u001b[0m\u001b[0;34m\u001b[0m\u001b[0;34m\u001b[0m\u001b[0m\n",
            "\u001b[0;32m/usr/local/lib/python3.7/dist-packages/matplotlib/animation.py\u001b[0m in \u001b[0;36msave\u001b[0;34m(self, filename, writer, fps, dpi, codec, bitrate, extra_args, metadata, extra_anim, savefig_kwargs, progress_callback)\u001b[0m\n\u001b[1;32m   1151\u001b[0m                             \u001b[0mframe_number\u001b[0m \u001b[0;34m+=\u001b[0m \u001b[0;36m1\u001b[0m\u001b[0;34m\u001b[0m\u001b[0;34m\u001b[0m\u001b[0m\n\u001b[0;32m-> 1152\u001b[0;31m                     \u001b[0mwriter\u001b[0m\u001b[0;34m.\u001b[0m\u001b[0mgrab_frame\u001b[0m\u001b[0;34m(\u001b[0m\u001b[0;34m**\u001b[0m\u001b[0msavefig_kwargs\u001b[0m\u001b[0;34m)\u001b[0m\u001b[0;34m\u001b[0m\u001b[0;34m\u001b[0m\u001b[0m\n\u001b[0m\u001b[1;32m   1153\u001b[0m \u001b[0;34m\u001b[0m\u001b[0m\n",
            "\u001b[0;32m/usr/lib/python3.7/contextlib.py\u001b[0m in \u001b[0;36m__exit__\u001b[0;34m(self, type, value, traceback)\u001b[0m\n\u001b[1;32m    129\u001b[0m             \u001b[0;32mtry\u001b[0m\u001b[0;34m:\u001b[0m\u001b[0;34m\u001b[0m\u001b[0;34m\u001b[0m\u001b[0m\n\u001b[0;32m--> 130\u001b[0;31m                 \u001b[0mself\u001b[0m\u001b[0;34m.\u001b[0m\u001b[0mgen\u001b[0m\u001b[0;34m.\u001b[0m\u001b[0mthrow\u001b[0m\u001b[0;34m(\u001b[0m\u001b[0mtype\u001b[0m\u001b[0;34m,\u001b[0m \u001b[0mvalue\u001b[0m\u001b[0;34m,\u001b[0m \u001b[0mtraceback\u001b[0m\u001b[0;34m)\u001b[0m\u001b[0;34m\u001b[0m\u001b[0;34m\u001b[0m\u001b[0m\n\u001b[0m\u001b[1;32m    131\u001b[0m             \u001b[0;32mexcept\u001b[0m \u001b[0mStopIteration\u001b[0m \u001b[0;32mas\u001b[0m \u001b[0mexc\u001b[0m\u001b[0;34m:\u001b[0m\u001b[0;34m\u001b[0m\u001b[0;34m\u001b[0m\u001b[0m\n",
            "\u001b[0;32m/usr/local/lib/python3.7/dist-packages/matplotlib/animation.py\u001b[0m in \u001b[0;36msaving\u001b[0;34m(self, fig, outfile, dpi, *args, **kwargs)\u001b[0m\n\u001b[1;32m    231\u001b[0m         \u001b[0;32mfinally\u001b[0m\u001b[0;34m:\u001b[0m\u001b[0;34m\u001b[0m\u001b[0;34m\u001b[0m\u001b[0m\n\u001b[0;32m--> 232\u001b[0;31m             \u001b[0mself\u001b[0m\u001b[0;34m.\u001b[0m\u001b[0mfinish\u001b[0m\u001b[0;34m(\u001b[0m\u001b[0;34m)\u001b[0m\u001b[0;34m\u001b[0m\u001b[0;34m\u001b[0m\u001b[0m\n\u001b[0m\u001b[1;32m    233\u001b[0m \u001b[0;34m\u001b[0m\u001b[0m\n",
            "\u001b[0;32m/usr/local/lib/python3.7/dist-packages/matplotlib/animation.py\u001b[0m in \u001b[0;36mfinish\u001b[0;34m(self)\u001b[0m\n\u001b[1;32m    367\u001b[0m         \u001b[0;34m'''Finish any processing for writing the movie.'''\u001b[0m\u001b[0;34m\u001b[0m\u001b[0;34m\u001b[0m\u001b[0m\n\u001b[0;32m--> 368\u001b[0;31m         \u001b[0mself\u001b[0m\u001b[0;34m.\u001b[0m\u001b[0mcleanup\u001b[0m\u001b[0;34m(\u001b[0m\u001b[0;34m)\u001b[0m\u001b[0;34m\u001b[0m\u001b[0;34m\u001b[0m\u001b[0m\n\u001b[0m\u001b[1;32m    369\u001b[0m \u001b[0;34m\u001b[0m\u001b[0m\n",
            "\u001b[0;32m/usr/local/lib/python3.7/dist-packages/matplotlib/animation.py\u001b[0m in \u001b[0;36mcleanup\u001b[0;34m(self)\u001b[0m\n\u001b[1;32m    411\u001b[0m             raise subprocess.CalledProcessError(\n\u001b[0;32m--> 412\u001b[0;31m                 self._proc.returncode, self._proc.args, out, err)\n\u001b[0m\u001b[1;32m    413\u001b[0m \u001b[0;34m\u001b[0m\u001b[0m\n",
            "\u001b[0;31mCalledProcessError\u001b[0m: Command '['ffmpeg', '-f', 'rawvideo', '-vcodec', 'rawvideo', '-s', '942x504', '-pix_fmt', 'rgba', '-r', '20.0', '-loglevel', 'error', '-i', 'pipe:', '-vcodec', 'h264', '-pix_fmt', 'yuv420p', '-y', '/tmp/tmpgyb_ehg4/temp.m4v']' returned non-zero exit status 255.",
            "\nDuring handling of the above exception, another exception occurred:\n",
            "\u001b[0;31mException\u001b[0m                                 Traceback (most recent call last)",
            "\u001b[0;32m<ipython-input-112-fc4f254f8470>\u001b[0m in \u001b[0;36m<module>\u001b[0;34m()\u001b[0m\n\u001b[1;32m      3\u001b[0m \u001b[0;32mimport\u001b[0m \u001b[0mbar_chart_race\u001b[0m \u001b[0;32mas\u001b[0m \u001b[0mbcr\u001b[0m\u001b[0;34m\u001b[0m\u001b[0;34m\u001b[0m\u001b[0m\n\u001b[1;32m      4\u001b[0m \u001b[0mdf\u001b[0m \u001b[0;34m=\u001b[0m \u001b[0mbcr\u001b[0m\u001b[0;34m.\u001b[0m\u001b[0mload_dataset\u001b[0m\u001b[0;34m(\u001b[0m\u001b[0;34m'covid19_tutorial'\u001b[0m\u001b[0;34m)\u001b[0m\u001b[0;34m\u001b[0m\u001b[0;34m\u001b[0m\u001b[0m\n\u001b[0;32m----> 5\u001b[0;31m \u001b[0mbcr\u001b[0m\u001b[0;34m.\u001b[0m\u001b[0mbar_chart_race\u001b[0m\u001b[0;34m(\u001b[0m\u001b[0mpd\u001b[0m\u001b[0;34m.\u001b[0m\u001b[0mDataFrame\u001b[0m\u001b[0;34m(\u001b[0m\u001b[0mws\u001b[0m\u001b[0;34m,\u001b[0m \u001b[0mcolumns\u001b[0m\u001b[0;34m=\u001b[0m\u001b[0mlabels\u001b[0m\u001b[0;34m)\u001b[0m\u001b[0;34m)\u001b[0m\u001b[0;34m\u001b[0m\u001b[0;34m\u001b[0m\u001b[0m\n\u001b[0m",
            "\u001b[0;32m/usr/local/lib/python3.7/dist-packages/bar_chart_race/_make_chart.py\u001b[0m in \u001b[0;36mbar_chart_race\u001b[0;34m(df, filename, orientation, sort, n_bars, fixed_order, fixed_max, steps_per_period, period_length, interpolate_period, label_bars, bar_size, period_label, period_fmt, period_summary_func, perpendicular_bar_func, figsize, cmap, title, title_size, bar_label_size, tick_label_size, shared_fontdict, scale, writer, fig, dpi, bar_kwargs, filter_column_colors)\u001b[0m\n\u001b[1;32m    781\u001b[0m                         \u001b[0mfigsize\u001b[0m\u001b[0;34m,\u001b[0m \u001b[0mcmap\u001b[0m\u001b[0;34m,\u001b[0m \u001b[0mtitle\u001b[0m\u001b[0;34m,\u001b[0m \u001b[0mtitle_size\u001b[0m\u001b[0;34m,\u001b[0m \u001b[0mbar_label_size\u001b[0m\u001b[0;34m,\u001b[0m \u001b[0mtick_label_size\u001b[0m\u001b[0;34m,\u001b[0m\u001b[0;34m\u001b[0m\u001b[0;34m\u001b[0m\u001b[0m\n\u001b[1;32m    782\u001b[0m                         shared_fontdict, scale, writer, fig, dpi, bar_kwargs, filter_column_colors)\n\u001b[0;32m--> 783\u001b[0;31m     \u001b[0;32mreturn\u001b[0m \u001b[0mbcr\u001b[0m\u001b[0;34m.\u001b[0m\u001b[0mmake_animation\u001b[0m\u001b[0;34m(\u001b[0m\u001b[0;34m)\u001b[0m\u001b[0;34m\u001b[0m\u001b[0;34m\u001b[0m\u001b[0m\n\u001b[0m\u001b[1;32m    784\u001b[0m \u001b[0;34m\u001b[0m\u001b[0m\n\u001b[1;32m    785\u001b[0m \u001b[0;32mdef\u001b[0m \u001b[0mload_dataset\u001b[0m\u001b[0;34m(\u001b[0m\u001b[0mname\u001b[0m\u001b[0;34m=\u001b[0m\u001b[0;34m'covid19'\u001b[0m\u001b[0;34m)\u001b[0m\u001b[0;34m:\u001b[0m\u001b[0;34m\u001b[0m\u001b[0;34m\u001b[0m\u001b[0m\n",
            "\u001b[0;32m/usr/local/lib/python3.7/dist-packages/bar_chart_race/_make_chart.py\u001b[0m in \u001b[0;36mmake_animation\u001b[0;34m(self)\u001b[0m\n\u001b[1;32m    444\u001b[0m             \u001b[0;32melse\u001b[0m\u001b[0;34m:\u001b[0m\u001b[0;34m\u001b[0m\u001b[0;34m\u001b[0m\u001b[0m\n\u001b[1;32m    445\u001b[0m                 \u001b[0mmessage\u001b[0m \u001b[0;34m=\u001b[0m \u001b[0mstr\u001b[0m\u001b[0;34m(\u001b[0m\u001b[0me\u001b[0m\u001b[0;34m)\u001b[0m\u001b[0;34m\u001b[0m\u001b[0;34m\u001b[0m\u001b[0m\n\u001b[0;32m--> 446\u001b[0;31m             \u001b[0;32mraise\u001b[0m \u001b[0mException\u001b[0m\u001b[0;34m(\u001b[0m\u001b[0mmessage\u001b[0m\u001b[0;34m)\u001b[0m\u001b[0;34m\u001b[0m\u001b[0;34m\u001b[0m\u001b[0m\n\u001b[0m\u001b[1;32m    447\u001b[0m         \u001b[0;32mfinally\u001b[0m\u001b[0;34m:\u001b[0m\u001b[0;34m\u001b[0m\u001b[0;34m\u001b[0m\u001b[0m\n\u001b[1;32m    448\u001b[0m             \u001b[0mplt\u001b[0m\u001b[0;34m.\u001b[0m\u001b[0mrcParams\u001b[0m \u001b[0;34m=\u001b[0m \u001b[0mself\u001b[0m\u001b[0;34m.\u001b[0m\u001b[0morig_rcParams\u001b[0m\u001b[0;34m\u001b[0m\u001b[0;34m\u001b[0m\u001b[0m\n",
            "\u001b[0;31mException\u001b[0m: You do not have ffmpeg installed on your machine. Download\n                            ffmpeg from here: https://www.ffmpeg.org/download.html.\n                            \n                            Matplotlib's original error message below:\n\n                            Command '['ffmpeg', '-f', 'rawvideo', '-vcodec', 'rawvideo', '-s', '942x504', '-pix_fmt', 'rgba', '-r', '20.0', '-loglevel', 'error', '-i', 'pipe:', '-vcodec', 'h264', '-pix_fmt', 'yuv420p', '-y', '/tmp/tmpgyb_ehg4/temp.m4v']' returned non-zero exit status 255.\n                            "
          ]
        }
      ]
    },
    {
      "cell_type": "code",
      "metadata": {
        "colab": {
          "base_uri": "https://localhost:8080/",
          "height": 269
        },
        "id": "6CNRYHtP_M3r",
        "outputId": "7bc6945c-930d-4d6b-cdf0-e0e83c7f2ae5"
      },
      "source": [
        "# First set up the figure, the axis, and the plot element we want to animate\n",
        "fig, ax = plt.subplots()\n",
        "\n",
        "ax.set_xlim(( 0, 2))\n",
        "ax.set_ylim((-2, 2))\n",
        "\n",
        "line, = ax.plot([], [], lw=2)\n",
        "\n",
        "# initialization function: plot the background of each frame\n",
        "def init():\n",
        "    line.set_data([], [])\n",
        "    return (line,)\n"
      ],
      "execution_count": 103,
      "outputs": [
        {
          "output_type": "display_data",
          "data": {
            "image/png": "[encoded data removed]",
            "text/plain": [
              "<Figure size 432x288 with 1 Axes>"
            ]
          },
          "metadata": {
            "tags": [],
            "needs_background": "light"
          }
        }
      ]
    },
    {
      "cell_type": "code",
      "metadata": {
        "colab": {
          "base_uri": "https://localhost:8080/",
          "height": 545
        },
        "id": "9R3VPasGu5Qr",
        "outputId": "1798b9e4-7ab4-4a92-c685-f5e1ccf2fc01"
      },
      "source": [
        "wsf, label = weight_size_measurement(model)\n",
        "\n",
        "plt.bar(wsi, label, )\n",
        "plot_weight_measurement(wsi, label, title='Initial Weight Size Measurement')\n",
        "plot_weight_measurement(wsf, label, title='Final Weight Size Measurement')"
      ],
      "execution_count": 101,
      "outputs": [
        {
          "output_type": "display_data",
          "data": {
            "image/png": "[encoded data removed]",
            "text/plain": [
              "<Figure size 1080x288 with 1 Axes>"
            ]
          },
          "metadata": {
            "tags": [],
            "needs_background": "light"
          }
        },
        {
          "output_type": "display_data",
          "data": {
            "image/png": "[encoded data removed]",
            "text/plain": [
              "<Figure size 1080x288 with 1 Axes>"
            ]
          },
          "metadata": {
            "tags": [],
            "needs_background": "light"
          }
        }
      ]
    },
    {
      "cell_type": "markdown",
      "metadata": {
        "id": "iAzaEKmZt9aR"
      },
      "source": [
        "Now that we have finished training, let's see how the model has evolved over the training process."
      ]
    },
    {
      "cell_type": "code",
      "metadata": {
        "id": "dJP-u-sDhUGz",
        "colab": {
          "base_uri": "https://localhost:8080/",
          "height": 312
        },
        "outputId": "eaab2e32-71ac-4aae-d364-b8f350a187c4"
      },
      "source": [
        "#@title Animation (Run Me!)\n",
        "fig = plt.figure()\n",
        "ax = plt.axes()\n",
        "def frame(i):\n",
        "    ax.clear()\n",
        "    ax.scatter(X[:,0,:].numpy(),Y[:,0,:].numpy())\n",
        "    plot = ax.plot(X_test[:,0,:].detach().numpy(),running_predictions[:,i])\n",
        "    title = \"Epoch: \" + str(i * 500)\n",
        "    plt.title(title)\n",
        "    ax.set_xlabel(\"X axis\")\n",
        "    ax.set_ylabel(\"Y axis\")\n",
        "    return plot\n",
        "anim = animation.FuncAnimation(fig, frame, frames=range(20), blit=False, repeat=False, repeat_delay=10000)\n",
        "anim"
      ],
      "execution_count": 61,
      "outputs": [
        {
          "output_type": "execute_result",
          "data": {
            "text/plain": [
              "<matplotlib.animation.FuncAnimation at 0x7fec81cfbb50>"
            ]
          },
          "metadata": {
            "tags": []
          },
          "execution_count": 61
        },
        {
          "output_type": "display_data",
          "data": {
            "image/png": "[encoded data removed]",
            "text/plain": [
              "<Figure size 432x288 with 1 Axes>"
            ]
          },
          "metadata": {
            "tags": [],
            "needs_background": "light"
          }
        }
      ]
    },
    {
      "cell_type": "code",
      "metadata": {
        "id": "xQhwOF0iqsYh",
        "colab": {
          "base_uri": "https://localhost:8080/",
          "height": 295
        },
        "cellView": "form",
        "outputId": "ebde9de9-3610-4c35-cfa7-fc56d318b119"
      },
      "source": [
        "#@title Plot the train and test losses [Note: You may have to run this twice]\n",
        "plt.plot(train_loss,label='train_loss')\n",
        "plt.plot(test_loss,label='test_loss')\n",
        "plt.ylabel('loss')\n",
        "plt.xlabel('epochs')\n",
        "plt.title('loss vs epoch')\n",
        "plt.legend()\n",
        "plt.show()"
      ],
      "execution_count": 62,
      "outputs": [
        {
          "output_type": "display_data",
          "data": {
            "image/png": "[encoded data removed]",
            "text/plain": [
              "<Figure size 432x288 with 1 Axes>"
            ]
          },
          "metadata": {
            "tags": [],
            "needs_background": "light"
          }
        }
      ]
    },
    {
      "cell_type": "markdown",
      "metadata": {
        "id": "C43NJVU9eKpx"
      },
      "source": [
        "Now let's visualize the frobenious norm of the model as we trained and you should see that the value of weights increased lineraly w.r.t epochs"
      ]
    },
    {
      "cell_type": "code",
      "metadata": {
        "id": "JwiOImKSzLOC",
        "cellView": "form",
        "colab": {
          "base_uri": "https://localhost:8080/",
          "height": 295
        },
        "outputId": "883a13d6-b8a2-4bbd-d9bb-d7b5eafb1223"
      },
      "source": [
        "#@title Frobenious norm of the model \n",
        "plt.plot(model_norm)\n",
        "plt.ylabel('norm of the model')\n",
        "plt.xlabel('epochs')\n",
        "plt.title('Size of the model vs Epochs')\n",
        "plt.show()"
      ],
      "execution_count": 63,
      "outputs": [
        {
          "output_type": "display_data",
          "data": {
            "image/png": "[encoded data removed]",
            "text/plain": [
              "<Figure size 432x288 with 1 Axes>"
            ]
          },
          "metadata": {
            "tags": [],
            "needs_background": "light"
          }
        }
      ]
    },
    {
      "cell_type": "markdown",
      "metadata": {
        "id": "GfVSopl21FQS"
      },
      "source": [
        "What trend do you see w.r.t to train and test losses( where do you see the minimum of these losses)? What does it tell about the model we trained? Discuss among yourselves."
      ]
    },
    {
      "cell_type": "code",
      "metadata": {
        "id": "kNulBEvV0_Ll",
        "cellView": "form"
      },
      "source": [
        "#@markdown Write down your discussion\n",
        "loss_trend = '436565%' #@param {type:\"string\"}"
      ],
      "execution_count": null,
      "outputs": []
    },
    {
      "cell_type": "markdown",
      "metadata": {
        "id": "Rb_o51L8dw6w"
      },
      "source": [
        "## Overfitting on Test Dataset\n",
        "\n",
        "\n",
        "In principle, we should not touch our test set until after we have chosen all our hyperparameters. Were we to use the test data in the model selection process, there is a risk that we might overfit the test data. Then we would be in serious trouble. If we overfit our training data, there is always the evaluation on test data to keep us honest. But if we overfit the test data, how would we ever know?\n",
        "\n",
        "Note that there is another kind of overfitting: you do \"honest\" fitting on one set of images or posts, or medical records, but it may not generalize to other sets of images, posts or medical records.\n"
      ]
    },
    {
      "cell_type": "markdown",
      "metadata": {
        "id": "E_Y9eHGXe5-D"
      },
      "source": [
        "##Validation Dataset\n",
        "A common practice to address this problem is to split our data three ways, using a validation dataset (or validation set) to tune the hyperparameters.\n",
        "\n",
        "Ideally we would only touch the test data once, to assess the very best model or to compare a small number of models to each other, real-world test data is seldom discarded after just one use.\n",
        "\n"
      ]
    },
    {
      "cell_type": "markdown",
      "metadata": {
        "id": "5risoZLh-boy"
      },
      "source": [
        "# Section 3: Memorization\n",
        "(Time Estimate: 50 min from start)"
      ]
    },
    {
      "cell_type": "markdown",
      "metadata": {
        "id": "uutJgdsFAk7Y"
      },
      "source": [
        "Given sufficiently large networks and enough training, Neural Networks can acheive almost 100% train accuracy.\n",
        "\n",
        "In this section we train three MLP's one each on:\n",
        "\n",
        "\n",
        "1.   Animal Faces Dataset\n",
        "2.   Completely Noisy Dataset (Random Shuffling of all labels)\n",
        "3.   Partially Noisy Dataset (Random Shuffling of 15% labels)"
      ]
    },
    {
      "cell_type": "markdown",
      "metadata": {
        "id": "wgTen1PLmrWK"
      },
      "source": [
        "Now, think for a couple of minutes as to what the train and test accuracies of each of these models might be, given you train for sufficient time and use a powerful network."
      ]
    },
    {
      "cell_type": "code",
      "metadata": {
        "id": "kzag0GS8nAaP",
        "cellView": "form"
      },
      "source": [
        "#@markdown Write down your discussion\n",
        "expected_accuracies = 'vhvhjhjg' #@param {type:\"string\"}"
      ],
      "execution_count": null,
      "outputs": []
    },
    {
      "cell_type": "markdown",
      "metadata": {
        "id": "x4QhI5n_skGC"
      },
      "source": [
        "Now, let's create the required dataloaders for all the three datasets. Take a quick look at how we split the data. We train on a fraction of the dataset as it will be easier to train and also visualize overfitting."
      ]
    },
    {
      "cell_type": "code",
      "metadata": {
        "id": "QGBBuMD3vSvT"
      },
      "source": [
        "##Dataloaders for the Dataset\n",
        "batch_size = 128\n",
        "classes = ('cat', 'dog', 'wild')\n",
        "\n",
        "train_transform = transforms.Compose([\n",
        "     transforms.ToTensor(),\n",
        "     transforms.Normalize((0.5, 0.5, 0.5), (0.5, 0.5, 0.5))    \n",
        "     ])\n",
        "data_path = pathlib.Path('.')/'afhq' # using pathlib to be compatible with all OS's\n",
        "img_dataset = ImageFolder(data_path/'train', transform=train_transform)\n",
        "\n",
        "\n",
        "####################################################\n",
        "\n",
        "##Dataloaders for the  Original Dataset\n",
        "\n",
        "\n",
        "img_train_data, img_val_data,_ = torch.utils.data.random_split(img_dataset, [100,100,14430])\n",
        "\n",
        "#Creating train_loader and Val_loader\n",
        "train_loader = torch.utils.data.DataLoader(img_train_data,batch_size=batch_size,worker_init_fn=seed_worker)\n",
        "val_loader = torch.utils.data.DataLoader(img_val_data,batch_size=1000,worker_init_fn=seed_worker)\n",
        "\n",
        "#creating test dataset\n",
        "test_transform = transforms.Compose([\n",
        "     transforms.ToTensor(),\n",
        "     transforms.Normalize((0.5, 0.5, 0.5), (0.5, 0.5, 0.5))  \n",
        "     ])\n",
        "img_test_dataset = ImageFolder(data_path/'val', transform=test_transform)\n",
        "\n",
        "\n",
        "####################################################\n",
        "\n",
        "##Dataloaders for the  Random Dataset\n",
        "\n",
        "#splitting randomized data into training and validation data \n",
        "data_path = pathlib.Path('.')/'afhq_random_32x32/afhq_random' # using pathlib to be compatible with all OS's\n",
        "img_dataset = ImageFolder(data_path/'train', transform=train_transform)\n",
        "random_img_train_data, random_img_val_data,_ = torch.utils.data.random_split(img_dataset, [100,100,14430])\n",
        "\n",
        "#Randomized train and validation dataloader\n",
        "rand_train_loader = torch.utils.data.DataLoader(random_img_train_data,batch_size=batch_size,num_workers = 0, worker_init_fn=seed_worker)\n",
        "rand_val_loader = torch.utils.data.DataLoader(random_img_val_data,batch_size=1000,num_workers = 0,worker_init_fn=seed_worker)\n",
        "\n",
        "####################################################\n",
        "\n",
        "##Dataloaders for the Partially Random Dataset\n",
        "\n",
        "#Splitting data between training and validation dataset for partially randomized data\n",
        "data_path = pathlib.Path('.')/'afhq_10_32x32/afhq_10' # using pathlib to be compatible with all OS's\n",
        "img_dataset = ImageFolder(data_path/'train', transform=train_transform)\n",
        "partially_random_train_data, partially_random_val_data,_ = torch.utils.data.random_split(img_dataset, [100,100,14430])\n",
        "\n",
        "#Training and Validation loader for partially randomized data\n",
        "partial_rand_train_loader = torch.utils.data.DataLoader(partially_random_train_data,batch_size=batch_size,num_workers = 0,worker_init_fn=seed_worker)\n",
        "partial_rand_val_loader = torch.utils.data.DataLoader(partially_random_val_data,batch_size=1000,num_workers = 0,worker_init_fn=seed_worker)"
      ],
      "execution_count": null,
      "outputs": []
    },
    {
      "cell_type": "markdown",
      "metadata": {
        "id": "iKu5dp7KgJIN"
      },
      "source": [
        "Now let's define a model which has a very high number of parameters when compared with the training data points and train it on all these datasets."
      ]
    },
    {
      "cell_type": "code",
      "metadata": {
        "id": "HQ9HSgxr-f3r"
      },
      "source": [
        "##Network Class - Animal Faces\n",
        "class Big_Animal_Net(nn.Module):\n",
        "    def __init__(self):\n",
        "        torch.manual_seed(104)\n",
        "        super(Big_Animal_Net, self).__init__()\n",
        "        self.fc1 = nn.Linear(3*32*32, 124)\n",
        "        self.fc2 = nn.Linear(124, 64)\n",
        "        self.fc3 = nn.Linear(64, 3)\n",
        "\n",
        "    def forward(self, x):\n",
        "        x = x.view(x.shape[0],-1)\n",
        "        x = F.leaky_relu(self.fc1(x))\n",
        "        x = F.leaky_relu(self.fc2(x))\n",
        "        x = self.fc3(x)\n",
        "        output = F.log_softmax(x, dim=1)\n",
        "        return output"
      ],
      "execution_count": null,
      "outputs": []
    },
    {
      "cell_type": "code",
      "metadata": {
        "id": "QrvUOxYBfRVG",
        "colab": {
          "base_uri": "https://localhost:8080/",
          "height": 510
        },
        "outputId": "8a8fe9e5-c944-4cdf-8d82-bb5384590938"
      },
      "source": [
        "##Here we have 100 true train data.\n",
        "args = {'test_batch_size': 1000,\n",
        "        'epochs': 200,\n",
        "        'lr': 5e-3,\n",
        "        'momentum': 0.9,\n",
        "        'no_cuda': False,\n",
        "        }\n",
        "\n",
        "acc_dict = {}\n",
        "model = Big_Animal_Net()\n",
        "\n",
        "start_time = time.time()\n",
        "val_acc_pure, train_acc_pure, _, model ,_ = main(args,model,train_loader,val_loader,img_test_dataset)\n",
        "end_time = time.time()\n",
        "\n",
        "print(\"Time to memorize the dataset:\",end_time - start_time)\n",
        "\n",
        "##Train and Test accuracy plot\n",
        "\n",
        "plt.plot(val_acc_pure,label='Val Accuracy Pure',c='red',ls = 'dashed')\n",
        "plt.plot(train_acc_pure,label='Train Accuracy Pure',c='red',ls = 'solid')\n",
        "plt.axhline(y=max(val_acc_pure),c = 'green',ls = 'dashed')\n",
        "plt.title('Memorization')\n",
        "plt.ylabel('Accuracy (%)')\n",
        "plt.xlabel('Epoch')\n",
        "plt.legend()\n",
        "plt.show()"
      ],
      "execution_count": null,
      "outputs": [
        {
          "output_type": "stream",
          "text": [
            "100%|██████████| 200/200 [00:23<00:00,  8.44it/s]\n"
          ],
          "name": "stderr"
        },
        {
          "output_type": "stream",
          "text": [
            "Time to memorize the dataset: 30.648476123809814\n"
          ],
          "name": "stdout"
        },
        {
          "output_type": "display_data",
          "data": {
            "image/png": "[encoded data removed]",
            "text/plain": [
              "<Figure size 640x480 with 1 Axes>"
            ]
          },
          "metadata": {
            "tags": [],
            "image/png": {
              "width": 579,
              "height": 459
            }
          }
        }
      ]
    },
    {
      "cell_type": "code",
      "metadata": {
        "id": "jW9z2IggZRKU",
        "colab": {
          "base_uri": "https://localhost:8080/",
          "height": 476
        },
        "outputId": "4975eb51-3913-4eb9-d530-f9b69804dc0d"
      },
      "source": [
        "plt.plot(val_acc_pure,label='Val Accuracy Pure',c='red',ls = 'dashed')\n",
        "plt.plot(train_acc_pure,label='Train Accuracy Pure',c='red',ls = 'solid')\n",
        "plt.axhline(y=max(val_acc_pure),c = 'green',ls = 'dashed')\n",
        "plt.title('Memorization')\n",
        "plt.ylabel('Accuracy (%)')\n",
        "plt.xlabel('Epoch')\n",
        "plt.legend()\n",
        "plt.show()"
      ],
      "execution_count": null,
      "outputs": [
        {
          "output_type": "display_data",
          "data": {
            "image/png": "[encoded data removed]",
            "text/plain": [
              "<Figure size 640x480 with 1 Axes>"
            ]
          },
          "metadata": {
            "tags": [],
            "image/png": {
              "width": 579,
              "height": 459
            }
          }
        }
      ]
    },
    {
      "cell_type": "markdown",
      "metadata": {
        "id": "ERwLcdXb8TRw"
      },
      "source": [
        "##Exercise 2: Data Visualizer\n",
        "Before we proceed to train the model on a data with random labels, let us visualize and verify for ourselves if the data is random or not. Here, we have classes = (\"cat\",\"dog\",\"wild\"). \n",
        "\n",
        "**Hint:** Use .permute() method. plt.imshow() expects imput to be in numpy format and in the format (Px,Py,3), where Px and Py are the number of pixels along axis x and y respectively."
      ]
    },
    {
      "cell_type": "code",
      "metadata": {
        "id": "seeyR3dUFafW"
      },
      "source": [
        "def Visualize_data(dataloader):\n",
        "  ####################################################################\n",
        "  # Fill in all missing code below (...),\n",
        "  # then remove or comment the line below to test your function\n",
        "  # The dataloader here gives out mini batches of 100 data points.\n",
        "  raise NotImplementedError(\"Complete the Visualize_random_data function\")\n",
        "  ####################################################################\n",
        "\n",
        "  for idx,(data,label) in enumerate(...):\n",
        "    plt.figure(idx)\n",
        "    #Choose the datapoint you would like to visualize\n",
        "    index = ...\n",
        "\n",
        "    #choose that datapoint using index and permute the dimensions and bring the pixel values between [0,1]\n",
        "    data = ...\n",
        "\n",
        "    #Convert the torch tensor into numpy\n",
        "    data = ...\n",
        "    \n",
        "    plt.imshow(data)\n",
        "    image_class = classes[...]\n",
        "    print(f'The image belongs to : {image_class}')\n",
        "\n",
        "  plt.show()\n",
        "\n",
        "##uncomment to run the function\n",
        "#Visualize_data(rand_train_loader)"
      ],
      "execution_count": null,
      "outputs": []
    },
    {
      "cell_type": "markdown",
      "metadata": {
        "id": "b7cwvw_pJvx_"
      },
      "source": [
        "[Click for solution](https://github.com/CIS-522/course-content/blob/main/tutorials/W05_Regularization/solutions/W5_Tutorial1_Ex02.py)\n",
        "\n",
        "Example Solution:\n",
        "\n",
        "![Rand_data.png](data:image/png;base64,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)"
      ]
    },
    {
      "cell_type": "markdown",
      "metadata": {
        "id": "8L78WJxqgsoZ"
      },
      "source": [
        "Now lets train the network on the completely shuffled data and see if it memorizes."
      ]
    },
    {
      "cell_type": "code",
      "metadata": {
        "id": "tE9wtARrg6nx"
      },
      "source": [
        "##Here we have 100 completely shuffled train data.\n",
        "args = {'epochs': 200,\n",
        "        'lr': 5e-3,\n",
        "        'momentum': 0.9,\n",
        "        'no_cuda': False\n",
        "        }\n",
        "\n",
        "acc_dict = {}\n",
        "model = Big_Animal_Net()\n",
        "\n",
        "\n",
        "val_acc_random, train_acc_random, _,model,_ = main(args,model,rand_train_loader,val_loader,img_test_dataset)\n",
        "\n",
        "##Train and Test accuracy plot\n",
        "\n",
        "plt.plot(val_acc_random,label='Val Accuracy random',c='red',ls = 'dashed')\n",
        "plt.plot(train_acc_random,label='Train Accuracy random',c='red',ls = 'solid')\n",
        "plt.axhline(y=max(val_acc_random),c = 'green',ls = 'dashed')\n",
        "plt.title('Memorization')\n",
        "plt.ylabel('Accuracy (%)')\n",
        "plt.xlabel('Epoch')\n",
        "plt.legend()\n",
        "plt.show()"
      ],
      "execution_count": null,
      "outputs": []
    },
    {
      "cell_type": "markdown",
      "metadata": {
        "id": "h9JAPoEWg1bp"
      },
      "source": [
        "Finally lets train on a parially shuffled dataset where 15% of the labels are noisy."
      ]
    },
    {
      "cell_type": "code",
      "metadata": {
        "id": "Cf0ovppPnrxs"
      },
      "source": [
        "##Here we have 100 partially shuffled train data.\n",
        "args = {'test_batch_size': 1000,\n",
        "        'epochs': 200,\n",
        "        'lr': 5e-3,\n",
        "        'momentum': 0.9,\n",
        "        'no_cuda': False,\n",
        "        }\n",
        "\n",
        "acc_dict = {}\n",
        "model = Big_Animal_Net()\n",
        "\n",
        "\n",
        "val_acc_shuffle, train_acc_shuffle, _,_,_ = main(args,model,partial_rand_train_loader,val_loader,img_test_dataset)\n",
        "\n",
        "#train and test acc plot\n",
        "plt.plot(val_acc_shuffle,label='Val Accuracy shuffle',c='red',ls = 'dashed')\n",
        "plt.plot(train_acc_shuffle,label='Train Accuracy shuffle',c='red',ls = 'solid')\n",
        "plt.axhline(y=max(val_acc_shuffle),c = 'green',ls = 'dashed')\n",
        "plt.title('Memorization')\n",
        "plt.ylabel('Accuracy (%)')\n",
        "plt.xlabel('Epoch')\n",
        "plt.legend()\n",
        "plt.show()"
      ],
      "execution_count": null,
      "outputs": []
    },
    {
      "cell_type": "code",
      "metadata": {
        "id": "ZCM3xI3DzJ0M",
        "cellView": "form"
      },
      "source": [
        "#@title Plotting them all together (Run Me!)\n",
        "plt.plot(val_acc_pure,label='Val - Pure',c='red',ls = 'dashed')\n",
        "plt.plot(train_acc_pure,label='Train - Pure',c='red',ls = 'solid')\n",
        "plt.plot(val_acc_random,label='Val - Random',c='blue',ls = 'dashed')\n",
        "plt.plot(train_acc_random,label='Train - Random',c='blue',ls = 'solid')\n",
        "plt.plot(val_acc_shuffle,label='Val 15% shuffle',c='green',ls = 'dashed')\n",
        "plt.plot(train_acc_shuffle,label='Train 15% shuffle',c='green',ls = 'solid')\n",
        "plt.title('Memorization')\n",
        "plt.ylabel('Accuracy (%)')\n",
        "plt.xlabel('Epoch')\n",
        "plt.legend()\n",
        "plt.show()"
      ],
      "execution_count": null,
      "outputs": []
    },
    {
      "cell_type": "markdown",
      "metadata": {
        "id": "dSfURqxBwq97"
      },
      "source": [
        "Given that the NN fit/memorize the training data perfectly, Do you think it generalizes well? What makes you think it does or doesn't?\n"
      ]
    },
    {
      "cell_type": "code",
      "metadata": {
        "id": "JOBzD7_cxPDO",
        "cellView": "form"
      },
      "source": [
        "#@markdown Write down your discussion\n",
        "memorize_or_generalize = '[][][][][][][][][' #@param {type:\"string\"}"
      ],
      "execution_count": null,
      "outputs": []
    },
    {
      "cell_type": "markdown",
      "metadata": {
        "id": "mKhJ_nxdaK-7"
      },
      "source": [
        "Isn't it supprising to see that the NN was able to acheive 100% train accuracy on randomly shuffled labels. This is one of the reasons why training accuracy is not a good indicator of model performance. \n",
        "\n",
        "Also it is interesting to note that sometimes the model trained on slightly shuffled data does slightly better than the one trained on pure data.  "
      ]
    },
    {
      "cell_type": "markdown",
      "metadata": {
        "id": "lMLQYrOBII5a"
      },
      "source": [
        "#Section 4: Early Stopping\n",
        "(Time Estimate: 70 min from start)"
      ]
    },
    {
      "cell_type": "code",
      "metadata": {
        "id": "KoY7sfDBojrs",
        "cellView": "form"
      },
      "source": [
        "#@title Video : Early Stopping\n",
        "try: t4;\n",
        "except NameError: t4=time.time()\n",
        "\n",
        "from IPython.display import YouTubeVideo\n",
        "video = YouTubeVideo(id=\"GA6J-50GCWs\", width=854, height=480, fs=1)\n",
        "print(\"Video available at https://youtube.com/watch?v=\" + video.id)\n",
        "\n",
        "video"
      ],
      "execution_count": null,
      "outputs": []
    },
    {
      "cell_type": "markdown",
      "metadata": {
        "id": "nV3jPkkgW7fN"
      },
      "source": [
        "\n",
        "Now that we have established that the validation accuracy reaches the peak well before the model overfits we want to somehow stop the training early. You should have also observed from the above plots that the train/test loss on real data is not very smooth and hence you might guess that the choice of epoch can play a very large role on the val/test accuracy of your model. \n",
        "\n",
        "Early stopping is a way to end training when the validation accuracies do not increase for over a certain number of epochs. Though this makes sure that we do not overfit on the train data we still haven't solved the problem of local variance. To overcome this we also save the best model based on the val loss/accuracy for use on test dataset.\n",
        "\n",
        "![Overfitting](https://images.deepai.org/glossary-terms/early-stopping-machine-learning-5422207.jpg)"
      ]
    },
    {
      "cell_type": "markdown",
      "metadata": {
        "id": "AEjIGMSiiAwQ"
      },
      "source": [
        "## Exercise 3: Early Stopping\n",
        "Reimplement the main function to include early stopping using the above mentioned stratergy.Then run the code below to validate your implementation."
      ]
    },
    {
      "cell_type": "code",
      "metadata": {
        "id": "J7MjxZDTKgkz"
      },
      "source": [
        "def early_stopping_main(args, model,train_loader,val_loader,test_data):\n",
        "\n",
        "    ####################################################################\n",
        "    # Fill in all missing code below (...),\n",
        "    # then remove or comment the line below to test your function\n",
        "    raise NotImplementedError(\"Complete the early_stopping_main function\")\n",
        "    ####################################################################\n",
        "\n",
        "    use_cuda = not args['no_cuda'] and torch.cuda.is_available()\n",
        "    device = torch.device('cuda' if use_cuda else 'cpu')     \n",
        "\n",
        "    model = model.to(device)\n",
        "    optimizer = optim.SGD(model.parameters(), lr=args['lr'], momentum=args['momentum'])\n",
        "\n",
        "    best_acc  = 0.0\n",
        "    best_epoch = 0\n",
        "\n",
        "    # Number of successive epochs that you want to wait before stopping training process\n",
        "    patience = ...\n",
        "\n",
        "    # Keps track of number of epochs during which the val_acc was less than best_acc\n",
        "    wait = ...\n",
        "\n",
        "    val_acc_list, train_acc_list = [], []\n",
        "\n",
        "    for epoch in range(1, args['epochs'] + 1):\n",
        "        train(args, model, device, train_loader, optimizer, epoch)\n",
        "        train_acc = test(model,device,train_loader, 'Train')\n",
        "        val_acc = test(model,device,val_loader, 'Val')\n",
        "        if (val_acc > best_acc):\n",
        "            #...\n",
        "            #...\n",
        "            #...\n",
        "            #...\n",
        "        else:\n",
        "            #...\n",
        "            if (wait > patience):\n",
        "                #....\n",
        "                #....\n",
        "        train_acc_list.append(train_acc)\n",
        "        val_acc_list.append(val_acc)\n",
        "\n",
        "    return val_acc_list, train_acc_list, model, best_epoch"
      ],
      "execution_count": null,
      "outputs": []
    },
    {
      "cell_type": "code",
      "metadata": {
        "id": "5Na0NM8Dzx5f"
      },
      "source": [
        "args = {'epochs': 200,\n",
        "        'lr': 5e-4,\n",
        "        'momentum': 0.99,\n",
        "        'no_cuda': False,\n",
        "        }\n",
        "\n",
        "acc_dict = {}\n",
        "model = Animal_Net()\n",
        "\n",
        "val_acc_pure, train_acc_pure,_,_ ,best_epoch = main(args,model,train_loader,val_loader,img_test_dataset)\n",
        "\n",
        "model = Animal_Net()\n",
        "val_acc_earlystop, train_acc_earlystop,_,best_epoch = early_stopping_main(args,model,train_loader,val_loader,img_test_dataset)\n",
        "\n",
        "print(\"Maximum Validation Accuracy is reached at epoch:%2d\"%(best_epoch))"
      ],
      "execution_count": null,
      "outputs": []
    },
    {
      "cell_type": "markdown",
      "metadata": {
        "id": "LxE2Yl64cpOx"
      },
      "source": [
        "[Click for Solution](https://github.com/CIS-522/course-content/blob/main/tutorials/W05_Regularization/solutions/W5_Tutorial1_Ex03.py)\n",
        "\n",
        "Example solution:\n",
        "\n",
        "![Screenshot from 2021-02-14 03-01-20.png](data:image/png;base64,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)"
      ]
    },
    {
      "cell_type": "markdown",
      "metadata": {
        "id": "C3vFW5Af78sf"
      },
      "source": [
        "Do you think Early stopping can be harmful for the training of your network?Discuss among your pod why or why not?"
      ]
    },
    {
      "cell_type": "code",
      "metadata": {
        "id": "uNEqK7PJ76HN",
        "cellView": "form"
      },
      "source": [
        "#@markdown Write down your discussion\n",
        "early_stopping = \"%\\\" \\\"\" #@param {type:\"string\"}"
      ],
      "execution_count": null,
      "outputs": []
    },
    {
      "cell_type": "markdown",
      "metadata": {
        "id": "ezsI9BNd-9xb"
      },
      "source": [
        "#Section 5: L1 and L2 Regularization\n",
        "(Time Estimate: 85 min from start)"
      ]
    },
    {
      "cell_type": "code",
      "metadata": {
        "id": "QWwE8shboqK1",
        "cellView": "form",
        "colab": {
          "base_uri": "https://localhost:8080/",
          "height": 519
        },
        "outputId": "52b26bda-ffad-4a38-8be4-dab665324e5b"
      },
      "source": [
        "#@title Video : L1 and L2 regression\n",
        "try: t5;\n",
        "except NameError: t5=time.time()\n",
        "\n",
        "from IPython.display import YouTubeVideo\n",
        "video = YouTubeVideo(id=\"OLl2nzOeQ68\", width=854, height=480, fs=1)\n",
        "print(\"Video available at https://youtube.com/watch?v=\" + video.id)\n",
        "\n",
        "video"
      ],
      "execution_count": null,
      "outputs": [
        {
          "output_type": "stream",
          "text": [
            "Video available at https://youtube.com/watch?v=OLl2nzOeQ68\n"
          ],
          "name": "stdout"
        },
        {
          "output_type": "execute_result",
          "data": {
            "text/html": [
              "\n",
              "        <iframe\n",
              "            width=\"854\"\n",
              "            height=\"480\"\n",
              "            src=\"https://www.youtube.com/embed/OLl2nzOeQ68?fs=1\"\n",
              "            frameborder=\"0\"\n",
              "            allowfullscreen\n",
              "        ></iframe>\n",
              "        "
            ],
            "text/plain": [
              "<IPython.lib.display.YouTubeVideo at 0x7facc454c710>"
            ],
            "image/jpeg": "[encoded data removed]"
          },
          "metadata": {
            "tags": []
          },
          "execution_count": 14
        }
      ]
    },
    {
      "cell_type": "markdown",
      "metadata": {
        "id": "xfsfYgYDqvwj"
      },
      "source": [
        "Some of you might have already come across L1 and L2 regularization before in other courses. L1 and L2 are the most common types of regularization. These update the general cost function by adding another term known as the regularization term.\n",
        "\n",
        "***Cost function = Loss (say, binary cross entropy) + Regularization term***\n",
        "\n",
        "Due to the addition of this regularization term, the values of parameters decrease because it assumes that a neural network with a lower parameter values leads to simpler models. Therefore, it will also reduce overfitting to quite an extent."
      ]
    },
    {
      "cell_type": "markdown",
      "metadata": {
        "id": "hSX-9e1WsGvI"
      },
      "source": [
        "Discuss among your teammates wheter the above assumption is good or bad?"
      ]
    },
    {
      "cell_type": "code",
      "metadata": {
        "id": "XnnxxMYHswhK",
        "cellView": "form"
      },
      "source": [
        "#@markdown Write down your discussion\n",
        "l1_l2_assumption = 'kkk' #@param {type:\"string\"}"
      ],
      "execution_count": null,
      "outputs": []
    },
    {
      "cell_type": "markdown",
      "metadata": {
        "id": "zEHr7hyns-9K"
      },
      "source": [
        "##Unregularized Model"
      ]
    },
    {
      "cell_type": "code",
      "metadata": {
        "id": "2aIo8e8NQfWQ",
        "cellView": "form"
      },
      "source": [
        "#@title Dataloaders for Regularization\n",
        "data_path = pathlib.Path('.')/'afhq' # using pathlib to be compatible with all OS's\n",
        "img_dataset = ImageFolder(data_path/'train', transform=train_transform)\n",
        "\n",
        "#Splitting dataset\n",
        "reg_train_data, reg_val_data,_ = torch.utils.data.random_split(img_dataset, [30,100,14500])\n",
        "\n",
        "#Creating train_loader and Val_loader\n",
        "reg_train_loader = torch.utils.data.DataLoader(reg_train_data,batch_size=batch_size,worker_init_fn=seed_worker)\n",
        "reg_val_loader = torch.utils.data.DataLoader(reg_val_data,batch_size=1000,worker_init_fn=seed_worker)\n"
      ],
      "execution_count": null,
      "outputs": []
    },
    {
      "cell_type": "markdown",
      "metadata": {
        "id": "ltJEADW-ou6H"
      },
      "source": [
        "Now let's train a model without any regularization and keep it aside as our bencmark for this section."
      ]
    },
    {
      "cell_type": "code",
      "metadata": {
        "id": "MM2k5L7QPrO4"
      },
      "source": [
        "args = {'epochs': 150,\n",
        "        'lr': 5e-3,\n",
        "        'momentum': 0.99,\n",
        "        'no_cuda': False,\n",
        "        }\n",
        "\n",
        "acc_dict = {}\n",
        "model = Animal_Net()\n",
        "\n",
        "val_acc_unreg, train_acc_unreg,param_norm_unreg,_ ,_ = main(args,model,reg_train_loader,reg_val_loader,img_test_dataset)\n",
        "\n",
        "##Train and Test accuracy plot\n",
        "\n",
        "plt.plot(val_acc_unreg,label='Val Accuracy',c='red',ls = 'dashed')\n",
        "plt.plot(train_acc_unreg,label='Train Accuracy',c='red',ls = 'solid')\n",
        "plt.axhline(y=max(val_acc_unreg),c = 'green',ls = 'dashed')\n",
        "plt.title('Unregularized Model')\n",
        "plt.ylabel('Accuracy (%)')\n",
        "plt.xlabel('Epoch')\n",
        "plt.legend()\n",
        "plt.show()\n",
        "print('maximum Validation Accuracy reached:%f'%max(val_acc_unreg))"
      ],
      "execution_count": null,
      "outputs": []
    },
    {
      "cell_type": "markdown",
      "metadata": {
        "id": "Zlj0-w2r-PIx"
      },
      "source": [
        "##L1/LASSO Regularization"
      ]
    },
    {
      "cell_type": "markdown",
      "metadata": {
        "id": "m-TABViwyd7P"
      },
      "source": [
        "L1 Regularization uses a Regularization Function which is the sum of the absolute value of all the weights in DLN, resulting in the following loss function ( L  is the usual Cross Entropy loss):\n",
        "\n",
        "\\begin{equation}\n",
        "L_R=L+λ∑|w^{(r)}_{ij}|\n",
        "\\end{equation}\n",
        "\n",
        "At a high level L1 Regularization is similar to L2 Regularization since it leads to smaller weights (you will see the analogy in the next subsection). It results in the following weight update equation when using Stochastic Gradient Descent (where  sgn  is the sign function, such that  sgn(w)=+1  if  w>0 ,  sgn(w)=−1  if  $w<0$ , and sgn(0)=0 ):\n",
        "\n",
        "\\begin{equation}\n",
        "w^{(r)}_{ij}←w^{(r)}_{ij}−ηλsgn(w^{(r)}_{ij})−η\\frac{\\partial L}{\\partial w_{ij}^{r}} \n",
        "\\end{equation}"
      ]
    },
    {
      "cell_type": "markdown",
      "metadata": {
        "id": "sNzq1uXyNn0y"
      },
      "source": [
        "###Exerice 4: L1_reg\n",
        "\n",
        "Write a function which calculates the L1 norm of all the tensors of a Pytorch model."
      ]
    },
    {
      "cell_type": "code",
      "metadata": {
        "id": "Of28m1kJMYe-"
      },
      "source": [
        "def l1_reg(model):\n",
        "\n",
        "    ####################################################################\n",
        "    # Fill in all missing code below (...),\n",
        "    # then remove or comment the line below to test your function\n",
        "    raise NotImplementedError(\"Complete the l1_reg function\")\n",
        "    ####################################################################\n",
        "    l1 = 0\n",
        "\n",
        "    for ... in ...:\n",
        "        ...\n",
        "\n",
        "    return l1\n",
        "\n",
        "##uncomment to test\n",
        "# net = nn.Linear(20,20)\n",
        "# print(f'L1 norm of the model: {l1_reg(net)}')"
      ],
      "execution_count": null,
      "outputs": []
    },
    {
      "cell_type": "markdown",
      "metadata": {
        "id": "-sGK_ddrPLD9"
      },
      "source": [
        "[Click for Solution](https://github.com/CIS-522/course-content/blob/main/tutorials/W05_Regularization/solutions/W5_Tutorial1_Ex04.py)\n",
        "\n",
        "Example Output:\n",
        "\n",
        "![Screenshot from 2021-02-12 02-55-09.png](data:image/png;base64,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)"
      ]
    },
    {
      "cell_type": "markdown",
      "metadata": {
        "id": "Kt4XPvcIQL_c"
      },
      "source": [
        "Now, let's train a classifier which uses l1 regularization. Tune the hyperparameter lambda1 such that the val accuracy is higher than for unregularized model."
      ]
    },
    {
      "cell_type": "code",
      "metadata": {
        "id": "koVWFXjNks44"
      },
      "source": [
        "args = {'epochs': 150,\n",
        "        'lr': 5e-3,\n",
        "        'momentum': 0.99,\n",
        "        'no_cuda': False,\n",
        "        'lambda': ...\n",
        "        }\n",
        "\n",
        "acc_dict = {}\n",
        "model = Animal_Net()\n",
        "\n",
        "val_acc_l1reg, train_acc_l1reg,param_norm_l1reg,_,_ = main(args,model,reg_train_loader,reg_val_loader,img_test_dataset,reg_function1=l1_reg)\n",
        "\n",
        "##Train and Test accuracy plot\n",
        "\n",
        "plt.plot(val_acc_l1reg,label='Val Accuracy L1 Regularized',c='red',ls = 'dashed')\n",
        "plt.plot(train_acc_l1reg,label='Train Accuracy L1 regularized',c='red',ls = 'solid')\n",
        "plt.axhline(y=max(val_acc_l1reg),c = 'green',ls = 'dashed')\n",
        "plt.title('L1 regularized model')\n",
        "plt.ylabel('Accuracy (%)')\n",
        "plt.xlabel('Epoch')\n",
        "plt.legend()\n",
        "plt.show()\n",
        "print('maximum Validation Accuracy reached:%f'%max(val_acc_l1reg))"
      ],
      "execution_count": null,
      "outputs": []
    },
    {
      "cell_type": "markdown",
      "metadata": {
        "id": "nFdSGZd1edc9"
      },
      "source": [
        "What value of Lambda worked for L1 Regularization?"
      ]
    },
    {
      "cell_type": "code",
      "metadata": {
        "id": "ksv9-jEzeddA",
        "cellView": "form"
      },
      "source": [
        "#@markdown Write down your discussion\n",
        "lambda1 = 'jjj' #@param {type:\"string\"}"
      ],
      "execution_count": null,
      "outputs": []
    },
    {
      "cell_type": "markdown",
      "metadata": {
        "id": "-HuDsreduuem"
      },
      "source": [
        "##L2 / Ridge Regularization"
      ]
    },
    {
      "cell_type": "markdown",
      "metadata": {
        "id": "ik7S1rjp3cIz"
      },
      "source": [
        "L2 Regularization is a commonly used technique in ML systems is also sometimes referred to as “Weight Decay”. It works by adding a quadratic term to the Cross Entropy Loss Function  L , called the Regularization Term, which results in a new Loss Function  LR  given by:\n",
        "\n",
        "\\begin{equation}\n",
        "LR=L+λ∑(w^{(r)}_{ij})^2\n",
        "\\end{equation}\n",
        "\n",
        "In order to get further insight into L2 Regularization, we investigate its effect on the Gradient Descent based update equations for the weight and bias parameters. Taking the derivative on both sides of the above equation, we obtain\n",
        "\n",
        "\\begin{equation}\n",
        "\\frac{\\partial L_r}{\\partial w^{(r)}_{ij}}=\\frac{\\partial L}{\\partial w^{(r)}_{ij}}+λw^{(r)}_{ij}\n",
        "\\end{equation}\n",
        "Thus the weight update rule becomes:\n",
        "\n",
        "\\begin{equation}\n",
        "w^{(r)}_{ij}←w^{(r)}_{ij}−η\\frac{\\partial L}{\\partial W^{(r)}_{ij}}−ηλw^{(r)}_{ij}=(1−ηλ)w^{(r)}_{ij}−η\\frac{\\partial L}{\\partial w^{(r)}_{ij}}\n",
        "\\end{equation}\n",
        "\n",
        "where, $\\eta$ is learning rate."
      ]
    },
    {
      "cell_type": "markdown",
      "metadata": {
        "id": "3EWNnjoDOCRG"
      },
      "source": [
        "###Exerice 5: L2_reg\n",
        "\n",
        "Write a function which calculates the L2 norm of all the tensors of a Pytorch model."
      ]
    },
    {
      "cell_type": "code",
      "metadata": {
        "id": "lm27RmzgNET2"
      },
      "source": [
        "def l2_reg(model):\n",
        "\n",
        "    ####################################################################\n",
        "    # Fill in all missing code below (...),\n",
        "    # then remove or comment the line below to test your function\n",
        "    raise NotImplementedError(\"Complete the l2_reg function\")\n",
        "    ####################################################################\n",
        "    l2 = 0\n",
        "\n",
        "    for ... in ...:\n",
        "        ...\n",
        "\n",
        "    return l2\n",
        "\n",
        "##uncomment to test\n",
        "# net = nn.Linear(20,20)\n",
        "# print(f'L2 norm of the model: {l2_reg(net)}')"
      ],
      "execution_count": null,
      "outputs": []
    },
    {
      "cell_type": "markdown",
      "metadata": {
        "id": "fc9hIj9yP2hf"
      },
      "source": [
        "[Click for Solution](https://github.com/CIS-522/course-content/blob/main/tutorials/W05_Regularization/solutions/W5_Tutorial1_Ex05.py)\n",
        "\n",
        "Example Output:\n",
        "\n",
        "![Screenshot from 2021-02-12 02-57-57.png](data:image/png;base64,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)"
      ]
    },
    {
      "cell_type": "markdown",
      "metadata": {
        "id": "QsPcCqORQjCi"
      },
      "source": [
        "Now, let's train a classifier which uses l2 regularization. Tune the hyperparameter lambda1 such that the val accuracy is higher than for unregularized model."
      ]
    },
    {
      "cell_type": "code",
      "metadata": {
        "id": "ciBXMW_lvLc1"
      },
      "source": [
        "args = {'test_batch_size': 1000,\n",
        "        'epochs': 150,\n",
        "        'lr': 5e-3,\n",
        "        'momentum': 0.99,\n",
        "        'no_cuda': False,\n",
        "        'lambda':...\n",
        "        }\n",
        "\n",
        "acc_dict = {}\n",
        "model = Animal_Net()\n",
        "\n",
        "val_acc_l2reg, train_acc_l2reg,param_norm_l2reg,model ,_ = main(args,model,train_loader,val_loader,img_test_dataset,reg_function1=l2_reg)\n",
        "\n",
        "##Train and Test accuracy plot\n",
        "\n",
        "plt.plot(val_acc_l2reg,label='Val Accuracy L2 regularized',c='red',ls = 'dashed')\n",
        "plt.plot(train_acc_l2reg,label='Train Accuracy L2 regularized',c='red',ls = 'solid')\n",
        "plt.axhline(y=max(val_acc_l2reg),c = 'green',ls = 'dashed')\n",
        "plt.title('L2 Regularized Model')\n",
        "plt.ylabel('Accuracy (%)')\n",
        "plt.xlabel('Epoch')\n",
        "plt.legend()\n",
        "plt.show()\n",
        "print('maximum Validation Accuracy reached:%f'%max(val_acc_l2reg))"
      ],
      "execution_count": null,
      "outputs": []
    },
    {
      "cell_type": "markdown",
      "metadata": {
        "id": "R_Cm6_P7erDt"
      },
      "source": [
        "What value of Lambda worked for L2 Regularization?"
      ]
    },
    {
      "cell_type": "code",
      "metadata": {
        "id": "4UlpzdFCerDv",
        "cellView": "form"
      },
      "source": [
        "#@markdown Write down your discussion\n",
        "lambda2 = '' #@param {type:\"string\"}"
      ],
      "execution_count": null,
      "outputs": []
    },
    {
      "cell_type": "code",
      "metadata": {
        "id": "_Sb_0_vMbBuU",
        "cellView": "form"
      },
      "source": [
        "#@title Visualize all of them together (Run Me!)\n",
        "plt.plot(val_acc_l2reg,c='red',ls = 'dashed')\n",
        "plt.plot(train_acc_l2reg,label='L2 regularized',c='red',ls = 'solid')\n",
        "plt.axhline(y=max(val_acc_l2reg),c = 'red',ls = 'dashed')\n",
        "plt.plot(val_acc_l1reg,c='green',ls = 'dashed')\n",
        "plt.plot(train_acc_l1reg,label='L1 regularized',c='green',ls = 'solid')\n",
        "plt.axhline(y=max(val_acc_l1reg),c = 'green',ls = 'dashed')\n",
        "plt.plot(val_acc_unreg,c='blue',ls = 'dashed')\n",
        "plt.plot(train_acc_unreg,label='Unregularized',c='blue',ls = 'solid')\n",
        "plt.axhline(y=max(val_acc_unreg),c = 'blue',ls = 'dashed')\n",
        "plt.plot(val_acc_l1l2reg,c='orange',ls = 'dashed')\n",
        "plt.plot(train_acc_l1l2reg,label='L1+L2 regularized',c='orange',ls = 'solid')\n",
        "plt.axhline(y=max(val_acc_l1l2reg),c = 'orange',ls = 'dashed')\n",
        "\n",
        "plt.title('Unregularized Vs L1-Regularized vs L2-regularized Vs L1+L2 regularized')\n",
        "plt.xlabel('epoch')\n",
        "plt.ylabel('Accuracy(%)')\n",
        "plt.legend()\n",
        "plt.show()"
      ],
      "execution_count": null,
      "outputs": []
    },
    {
      "cell_type": "markdown",
      "metadata": {
        "id": "_PgiiHQMW1lP"
      },
      "source": [
        "Now, let's visualize what these different regularization does to the parameters of the model. We observe the effect by computing the size (technically, the Frobenius norm -- the square root of the sum of the squaress) of the model parameters"
      ]
    },
    {
      "cell_type": "code",
      "metadata": {
        "id": "HDWlKxzbz0zC"
      },
      "source": [
        "#@title Visualize Norm of the Models (Train Me!)\n",
        "plt.plot(param_norm_unreg,label='Unregularized',c = 'blue')\n",
        "plt.plot(param_norm_l1reg,label = 'L1 Regularized', c='green')\n",
        "plt.plot(param_norm_l2reg,label='L2 Regularized',c='red')\n",
        "plt.plot(param_norm_l1l2reg,label='L1+L2 Regularized',c='orange')\n",
        "plt.title('Parameter Norm as a function of training Epoch')\n",
        "plt.xlabel('epoch')\n",
        "plt.ylabel('Parameter Norms')\n",
        "plt.legend()\n",
        "plt.show()"
      ],
      "execution_count": null,
      "outputs": []
    },
    {
      "cell_type": "markdown",
      "metadata": {
        "id": "Sb5LGL0hk5Ln"
      },
      "source": [
        "In the above plots, you should have seen that even after the model acheives 100% train accuracy the val accuracies are fluctuating, this would indicate that the model is still trying to learn something. Why whould this be the case?"
      ]
    },
    {
      "cell_type": "code",
      "metadata": {
        "id": "0DtbL8VOkuLd",
        "cellView": "form"
      },
      "source": [
        "#@markdown Write down your discussion\n",
        "variation = 'ghghjghkl' #@param {type:\"string\"}"
      ],
      "execution_count": null,
      "outputs": []
    },
    {
      "cell_type": "markdown",
      "metadata": {
        "id": "FifeU3xZ2h0k"
      },
      "source": [
        "#Section 6: Dropout\n",
        "(Time Estimate: 105 min from start)"
      ]
    },
    {
      "cell_type": "code",
      "metadata": {
        "id": "NCn6Gc9q38gv",
        "cellView": "form",
        "colab": {
          "base_uri": "https://localhost:8080/",
          "height": 519
        },
        "outputId": "bf1cb79e-d76a-4ee7-9e3a-9f3cea4fef07"
      },
      "source": [
        "#@title Video : Dropout\n",
        "try: t6;\n",
        "except NameError: t6=time.time()\n",
        "\n",
        "from IPython.display import YouTubeVideo\n",
        "video = YouTubeVideo(id=\"a4nX4T-3xsc\", width=854, height=480, fs=1)\n",
        "print(\"Video available at https://youtube.com/watch?v=\" + video.id)\n",
        "\n",
        "video"
      ],
      "execution_count": null,
      "outputs": [
        {
          "output_type": "stream",
          "text": [
            "Video available at https://youtube.com/watch?v=a4nX4T-3xsc\n"
          ],
          "name": "stdout"
        },
        {
          "output_type": "execute_result",
          "data": {
            "text/html": [
              "\n",
              "        <iframe\n",
              "            width=\"854\"\n",
              "            height=\"480\"\n",
              "            src=\"https://www.youtube.com/embed/a4nX4T-3xsc?fs=1\"\n",
              "            frameborder=\"0\"\n",
              "            allowfullscreen\n",
              "        ></iframe>\n",
              "        "
            ],
            "text/plain": [
              "<IPython.lib.display.YouTubeVideo at 0x7facc45634a8>"
            ],
            "image/jpeg": "[encoded data removed]"
          },
          "metadata": {
            "tags": []
          },
          "execution_count": 19
        }
      ]
    },
    {
      "cell_type": "markdown",
      "metadata": {
        "id": "zgsj1q_r-0Xp"
      },
      "source": [
        "\n",
        "Dropout involves injecting noise while computing each internal layer during forward propagation. The method is called dropout because we literally drop out some neurons during training. Throughout training, on each iteration, standard dropout consists of zeroing out some fraction of the nodes in each layer before calculating the subsequent layer.\n",
        "\n",
        "![Dropout](https://d2l.ai/_images/dropout2.svg)\n"
      ]
    },
    {
      "cell_type": "markdown",
      "metadata": {
        "id": "d9irrZLt16eM"
      },
      "source": [
        "Now lets revisit the toy dataset that we generated above to visualize how the dropout stabilizes training on a noisy dataset. We will slightly modify the architecture we used above to add dropout layers."
      ]
    },
    {
      "cell_type": "code",
      "metadata": {
        "id": "0k9J-Wjs28wz"
      },
      "source": [
        "##Network Class - 2D\n",
        "class Net(nn.Module):\n",
        "    def __init__(self):\n",
        "        super(Net, self).__init__()\n",
        "\n",
        "        self.fc1 = nn.Linear(1, 300)\n",
        "        self.fc2 = nn.Linear(300, 500)\n",
        "        self.fc3 = nn.Linear(500, 1)\n",
        "        self.dropout1 = nn.Dropout(0.4)\n",
        "        self.dropout2 = nn.Dropout(0.2)\n",
        "\n",
        "    def forward(self, x):\n",
        "        x = F.leaky_relu(self.dropout1(self.fc1(x)))\n",
        "        x = F.leaky_relu(self.dropout2(self.fc2(x)))\n",
        "        output = self.fc3(x)\n",
        "        return output"
      ],
      "execution_count": null,
      "outputs": []
    },
    {
      "cell_type": "code",
      "metadata": {
        "id": "VFAHGr5s5I_R"
      },
      "source": [
        "#train the network on toy dataset\n",
        "model = Net()\n",
        "criterion = nn.MSELoss()\n",
        "optimizer = optim.Adam(model.parameters(),lr = 1e-4)\n",
        "max_epochs = 10000\n",
        "iters = 0\n",
        "\n",
        "running_predictions_dp = np.empty((40,(int)(max_epochs/500)))\n",
        "\n",
        "train_loss_dp = []\n",
        "test_loss_dp = []\n",
        "model_norm_dp = []\n",
        "\n",
        "for epoch in tqdm(range(max_epochs)):\n",
        "\n",
        "    #training\n",
        "    model_norm_dp.append(calculate_frobenius_norm(model))\n",
        "    model.train()\n",
        "    optimizer.zero_grad()\n",
        "    predictions = model(X)\n",
        "    loss = criterion(predictions,Y)\n",
        "    loss.backward()\n",
        "    optimizer.step()\n",
        "\n",
        "    train_loss_dp.append(loss.data)\n",
        "    model.eval()\n",
        "    Y_test = model(X_test)\n",
        "    loss = criterion(Y_test,2*X_test)\n",
        "    test_loss_dp.append(loss.data)\n",
        "\n",
        "    if(epoch % 500 == 0 or epoch == max_epochs):\n",
        "        running_predictions_dp[:,iters] = Y_test[:,0,0].detach().numpy()\n",
        "        iters += 1"
      ],
      "execution_count": null,
      "outputs": []
    },
    {
      "cell_type": "markdown",
      "metadata": {
        "id": "Dw-rmoOoUOnA"
      },
      "source": [
        "Now that we have finished training, let's see how the model has evolved over the training process."
      ]
    },
    {
      "cell_type": "code",
      "metadata": {
        "id": "16zDPWsr5PoP",
        "cellView": "form"
      },
      "source": [
        "#@title Visulaization(Run Me!)\n",
        "fig = plt.figure()\n",
        "ax = plt.axes()\n",
        "def frame(i):\n",
        "    ax.clear()\n",
        "    ax.scatter(X[:,0,:].numpy(),Y[:,0,:].numpy())\n",
        "    plot = ax.plot(X_test[:,0,:].detach().numpy(),running_predictions_dp[:,i])\n",
        "    title = \"Epoch: \" + str(i * 500)\n",
        "    plt.title(title)\n",
        "    ax.set_xlabel(\"X axis\")\n",
        "    ax.set_ylabel(\"Y axis\")\n",
        "    return plot\n",
        "anim = animation.FuncAnimation(fig, frame, frames=range(20), blit=False, repeat=False, repeat_delay=10000)\n",
        "anim"
      ],
      "execution_count": null,
      "outputs": []
    },
    {
      "cell_type": "code",
      "metadata": {
        "id": "F7IfS-MR5X5O",
        "cellView": "form"
      },
      "source": [
        "#@title Plot the train and test losses [You may have to run this twice]\n",
        "plt.plot(test_loss_dp,label='test_loss dropout',c = 'blue',ls='dashed')\n",
        "plt.plot(test_loss,label='test_loss',c = 'red',ls='dashed')\n",
        "plt.ylabel('loss')\n",
        "plt.xlabel('epochs')\n",
        "plt.title('loss vs epoch')\n",
        "plt.legend()\n",
        "plt.show()"
      ],
      "execution_count": null,
      "outputs": []
    },
    {
      "cell_type": "code",
      "metadata": {
        "id": "UsV9CU1z5Zjc",
        "cellView": "form"
      },
      "source": [
        "#@title Plot model weights with epoch\n",
        "plt.plot(model_norm_dp,label = 'dropout')\n",
        "plt.plot(model_norm,label = 'no dropout')\n",
        "plt.ylabel('norm of the model')\n",
        "plt.xlabel('epochs')\n",
        "plt.legend()\n",
        "plt.title('Size of the model vs Epochs')\n",
        "plt.show()"
      ],
      "execution_count": null,
      "outputs": []
    },
    {
      "cell_type": "markdown",
      "metadata": {
        "id": "aHhMJZMRhzUe"
      },
      "source": [
        "Do you think this performed better than the initial model?"
      ]
    },
    {
      "cell_type": "code",
      "metadata": {
        "cellView": "form",
        "id": "vaSGy-IZh84l"
      },
      "source": [
        "#@markdown Write down your discussion\n",
        "dp_diff = \"gghg\" #@param {type:\"string\"}"
      ],
      "execution_count": null,
      "outputs": []
    },
    {
      "cell_type": "markdown",
      "metadata": {
        "id": "KBK9lE8P7WOd"
      },
      "source": [
        "##Dropout Implementation Caveats: "
      ]
    },
    {
      "cell_type": "markdown",
      "metadata": {
        "id": "BwVYGYd57lVm"
      },
      "source": [
        "\n",
        "*  Dropout is used only during training, during testing the complete model weights are used and hence it is important to use model.eval() before testing the model. \n",
        "\n",
        "* Dropout reduces the capacity of the model during training and hence as a general practice wider networks are used when using dropout. If you are using a dropout with a random probability of 0.5 then you might want to double the number of hidden neurons in that layer."
      ]
    },
    {
      "cell_type": "markdown",
      "metadata": {
        "id": "m1WEkOApU_oo"
      },
      "source": [
        "Now, lets see how Dropout fares on the Animal Faces Dataset. We first modify the existing model to include dropouts and then train the model."
      ]
    },
    {
      "cell_type": "code",
      "metadata": {
        "id": "46FM-qNM4q3-"
      },
      "source": [
        "##Network Class - Animal Faces\n",
        "class Animal_Net_Dropout(nn.Module):\n",
        "    def __init__(self):\n",
        "        torch.manual_seed(32)\n",
        "        super(Animal_Net_Dropout, self).__init__()\n",
        "        self.fc1 = nn.Linear(3*32*32, 248)\n",
        "        self.fc2 = nn.Linear(248, 210)\n",
        "        self.fc3 = nn.Linear(210, 3)\n",
        "        self.dropout1 = nn.Dropout(p = 0.5)\n",
        "        self.dropout2 = nn.Dropout(p = 0.3)\n",
        "\n",
        "    def forward(self, x):\n",
        "        x = x.view(x.shape[0],-1)\n",
        "        x = F.leaky_relu(self.dropout1(self.fc1(x)))\n",
        "        x =F.leaky_relu(self.dropout2(self.fc2(x)))\n",
        "        x = self.fc3(x)\n",
        "        output = F.log_softmax(x, dim=1)\n",
        "        return output"
      ],
      "execution_count": null,
      "outputs": []
    },
    {
      "cell_type": "code",
      "metadata": {
        "id": "0qYd11zF4mr_"
      },
      "source": [
        "args = {'test_batch_size': 1000,\n",
        "        'epochs': 200,\n",
        "        'lr': 5e-3,\n",
        "        'batch_size': 32,\n",
        "        'momentum': 0.9,\n",
        "        'no_cuda': False,\n",
        "        'seed': 1,\n",
        "        'log_interval': 100\n",
        "        }\n",
        "\n",
        "acc_dict = {}\n",
        "model = Animal_Net_Dropout()\n",
        "\n",
        "val_acc_dropout, train_acc_dropout, _, model ,_ = main(args,model,train_loader,val_loader,img_test_dataset)\n",
        "\n",
        "##Train and Test accuracy plot\n",
        "\n",
        "plt.plot(val_acc_pure,label='Val',c='blue',ls = 'dashed')\n",
        "plt.plot(train_acc_pure,label='Train',c='blue',ls = 'solid')\n",
        "plt.plot(val_acc_dropout,label='Val - DP',c='red',ls = 'dashed')\n",
        "plt.plot(train_acc_dropout,label='Train - DP',c='red',ls = 'solid')\n",
        "plt.title('Dropout')\n",
        "plt.ylabel('Accuracy (%)')\n",
        "plt.xlabel('Epoch')\n",
        "plt.legend()\n",
        "plt.show()"
      ],
      "execution_count": null,
      "outputs": []
    },
    {
      "cell_type": "markdown",
      "metadata": {
        "id": "QYf2EW344KeD"
      },
      "source": [
        "When do you think dropouts can perform bad and do you think their placement within a model matters?"
      ]
    },
    {
      "cell_type": "code",
      "metadata": {
        "id": "Hv7Td-PbxkVZ",
        "cellView": "form"
      },
      "source": [
        "#@markdown Write down your discussion\n",
        "dropout = 'ggwp' #@param {type:\"string\"}"
      ],
      "execution_count": null,
      "outputs": []
    },
    {
      "cell_type": "markdown",
      "metadata": {
        "id": "l2uz-1Yw85Qb"
      },
      "source": [
        "#Section 7: Data Augmentation\n",
        "(Time Estimate: 125 min from start)"
      ]
    },
    {
      "cell_type": "code",
      "metadata": {
        "id": "6e--CYCZ8nMp",
        "cellView": "form",
        "colab": {
          "base_uri": "https://localhost:8080/",
          "height": 519
        },
        "outputId": "eab083f1-32b6-46a2-9b98-896396d180c8"
      },
      "source": [
        "#@title Video : Data Augmentation\n",
        "try: t6;\n",
        "except NameError: t6=time.time()\n",
        "\n",
        "from IPython.display import YouTubeVideo\n",
        "video = YouTubeVideo(id=\"NvwRMX6v-S8\", width=854, height=480, fs=1)\n",
        "print(\"Video available at https://youtube.com/watch?v=\" + video.id)\n",
        "\n",
        "video"
      ],
      "execution_count": null,
      "outputs": [
        {
          "output_type": "stream",
          "text": [
            "Video available at https://youtube.com/watch?v=NvwRMX6v-S8\n"
          ],
          "name": "stdout"
        },
        {
          "output_type": "execute_result",
          "data": {
            "text/html": [
              "\n",
              "        <iframe\n",
              "            width=\"854\"\n",
              "            height=\"480\"\n",
              "            src=\"https://www.youtube.com/embed/NvwRMX6v-S8?fs=1\"\n",
              "            frameborder=\"0\"\n",
              "            allowfullscreen\n",
              "        ></iframe>\n",
              "        "
            ],
            "text/plain": [
              "<IPython.lib.display.YouTubeVideo at 0x7facc45621d0>"
            ],
            "image/jpeg": "[encoded data removed]"
          },
          "metadata": {
            "tags": []
          },
          "execution_count": 22
        }
      ]
    },
    {
      "cell_type": "markdown",
      "metadata": {
        "id": "_AIkE-h63IlZ"
      },
      "source": [
        "Data augmentation is often used to increase the number of training samples. Now we will explore the effects of Data Augmentation on regularization. Here regularization is acheived by adding noise into training data after every epoch.\n",
        "\n",
        "Pytorch's torchvision module provides a few inbuilt data augmentation techniques which we can use on image datasets. Some of the techniques we most frequently use are:\n",
        "\n",
        "\n",
        "*   Random Crop\n",
        "*   Random Rotate\n",
        "*   Vertical Flip\n",
        "*   Horizontal Flip\n",
        "\n"
      ]
    },
    {
      "cell_type": "code",
      "metadata": {
        "id": "K8upaZ4Mm8Pg",
        "cellView": "form"
      },
      "source": [
        "#@title Data Loader without Data Augmentation\n",
        "train_transform = transforms.Compose([\n",
        "     transforms.ToTensor(),\n",
        "     transforms.Normalize((0.5, 0.5, 0.5), (0.5, 0.5, 0.5))    \n",
        "     ])\n",
        "data_path = pathlib.Path('.')/'afhq' # using pathlib to be compatible with all OS's\n",
        "img_dataset = ImageFolder(data_path/'train', transform=train_transform)\n",
        "\n",
        "#Splitting dataset\n",
        "img_train_data, img_val_data,_ = torch.utils.data.random_split(img_dataset, [250,100,14280])\n",
        "\n",
        "#Creating train_loader and Val_loader\n",
        "train_loader = torch.utils.data.DataLoader(img_train_data,batch_size=batch_size,worker_init_fn=seed_worker)\n",
        "val_loader = torch.utils.data.DataLoader(img_val_data,batch_size=1000,worker_init_fn=seed_worker)"
      ],
      "execution_count": null,
      "outputs": []
    },
    {
      "cell_type": "markdown",
      "metadata": {
        "id": "dkth2fG1pVAF"
      },
      "source": [
        "Define a DataLoader using [torchvision.transforms](https://pytorch.org/docs/stable/torchvision/transforms.html) which randomly augments the data for us. "
      ]
    },
    {
      "cell_type": "code",
      "metadata": {
        "id": "xX7jk4FEbbU3"
      },
      "source": [
        "##Data Augmentation using transforms\n",
        "new_transforms = transforms.Compose([\n",
        "                                     transforms.RandomHorizontalFlip(p=0.1),\n",
        "                                     transforms.RandomVerticalFlip(p=0.1),\n",
        "                                     transforms.ToTensor(),\n",
        "                                     transforms.Normalize((0.5,0.5,0.5),(0.5,0.5,0.5))\n",
        "])\n",
        "\n",
        "data_path = pathlib.Path('.')/'afhq' # using pathlib to be compatible with all OS's\n",
        "img_dataset = ImageFolder(data_path/'train', transform=new_transforms)\n",
        "#Splitting dataset\n",
        "new_train_data, _,_ = torch.utils.data.random_split(img_dataset, [250,100,14280])\n",
        "\n",
        "#Creating train_loader and Val_loader\n",
        "new_train_loader = torch.utils.data.DataLoader(new_train_data,batch_size=batch_size,worker_init_fn=seed_worker)"
      ],
      "execution_count": null,
      "outputs": []
    },
    {
      "cell_type": "code",
      "metadata": {
        "id": "6cW8KjkpvnqS"
      },
      "source": [
        "args = {'epochs': 250,\n",
        "        'lr': 1e-3,\n",
        "        'momentum': 0.99,\n",
        "        'no_cuda': False,\n",
        "        }\n",
        "\n",
        "\n",
        "acc_dict = {}\n",
        "model = Animal_Net()\n",
        "\n",
        "val_acc_dataaug, train_acc_dataaug, param_norm_datadug, _ ,_ = main(args,model,new_train_loader,val_loader,img_test_dataset)\n",
        "model = Animal_Net()\n",
        "val_acc_pure, train_acc_pure, param_norm_pure,_,_ = main(args,model,train_loader,val_loader,img_test_dataset)\n",
        "\n",
        "\n",
        "##Train and Test accuracy plot\n",
        "\n",
        "plt.plot(val_acc_pure,label='Val Accuracy Pure',c='red',ls = 'dashed')\n",
        "plt.plot(train_acc_pure,label='Train Accuracy Pure',c='red',ls = 'solid')\n",
        "\n",
        "plt.plot(val_acc_dataaug,label='Val Accuracy data augment',c='blue',ls = 'dashed')\n",
        "plt.plot(train_acc_dataaug,label='Train Accuracy data augment',c='blue',ls = 'solid')\n",
        "plt.axhline(y=max(val_acc_pure),c = 'red',ls = 'dashed')\n",
        "plt.axhline(y=max(val_acc_dataaug),c = 'blue',ls = 'dashed')\n",
        "plt.title('Data Augmentation')\n",
        "plt.ylabel('Accuracy (%)')\n",
        "plt.xlabel('Epoch')\n",
        "plt.legend()\n",
        "plt.show()"
      ],
      "execution_count": null,
      "outputs": []
    },
    {
      "cell_type": "code",
      "metadata": {
        "id": "YVRtpSq6k2HH"
      },
      "source": [
        "plt.plot(param_norm_pure,c='red',label = 'Without Augmentation')\n",
        "plt.plot(param_norm_datadug,c='blue',label='With Augmentation')\n",
        "plt.title('Norm of parameters as a function of training epoch')\n",
        "plt.xlabel('epoch')\n",
        "plt.ylabel('Norm of model parameters')\n",
        "plt.legend()\n",
        "plt.show()"
      ],
      "execution_count": null,
      "outputs": []
    },
    {
      "cell_type": "markdown",
      "metadata": {
        "id": "9BU0igCDpPwa"
      },
      "source": [
        "Can you think of more ways of augmenting training data? (Think of other problems beyond object recogition.)"
      ]
    },
    {
      "cell_type": "code",
      "metadata": {
        "id": "UEtOQTCq1aPR",
        "cellView": "form"
      },
      "source": [
        "#@markdown Write down your discussion\n",
        "data_augment = 'kjkjkjkjkjkjkjkjk' #@param {type:\"string\"}"
      ],
      "execution_count": null,
      "outputs": []
    },
    {
      "cell_type": "markdown",
      "metadata": {
        "id": "P5-HZSWcCbr3"
      },
      "source": [
        "## Submit responses"
      ]
    },
    {
      "cell_type": "markdown",
      "metadata": {
        "id": "VtRxB698CTfG"
      },
      "source": [
        "---\n",
        "# Intermediate wrap up (to be moved)"
      ]
    },
    {
      "cell_type": "code",
      "metadata": {
        "id": "FCJJf7OFk8SU",
        "colab": {
          "base_uri": "https://localhost:8080/",
          "height": 421
        },
        "cellView": "form",
        "collapsed": true,
        "outputId": "06e09f06-4783-47db-896d-f30c54cccf15"
      },
      "source": [
        "#@markdown #Run Cell to Show Airtable Form\n",
        "#@markdown ##**Confirm your answers and then click \"Submit\"**\n",
        "\n",
        "import time\n",
        "import numpy as np\n",
        "import urllib.parse\n",
        "from IPython.display import IFrame\n",
        "def prefill_form(src, fields: dict):\n",
        "  '''\n",
        "  src: the original src url to embed the form\n",
        "  fields: a dictionary of field:value pairs,\n",
        "  e.g. {\"pennkey\": my_pennkey, \"location\": my_location}\n",
        "  '''\n",
        "  prefill_fields = {}\n",
        "  for key in fields:\n",
        "      new_key = 'prefill_' + key\n",
        "      prefill_fields[new_key] = fields[key]\n",
        "  prefills = urllib.parse.urlencode(prefill_fields)\n",
        "  src = src + prefills\n",
        "  return src\n",
        "\n",
        "#autofill time if it is not present\n",
        "try: t0;\n",
        "except NameError: t0 = time.time()\n",
        "try: t1;\n",
        "except NameError: t1 = time.time()\n",
        "try: t2;\n",
        "except NameError: t2 = time.time()\n",
        "try: t3;\n",
        "except NameError: t3 = time.time()\n",
        "try: t4;\n",
        "except NameError: t4 = time.time()\n",
        "try: t5;\n",
        "except NameError: t5 = time.time()\n",
        "try: t6;\n",
        "except NameError: t6 = time.time()\n",
        "try: t7;\n",
        "except NameError: t7 = time.time()\n",
        "\n",
        "#autofill fields if they are not present\n",
        "#a missing pennkey and pod will result in an Airtable warning\n",
        "#which is easily fixed user-side.\n",
        "try: pennkey;\n",
        "except NameError: pennkey = \"\"\n",
        "try: my_pod;\n",
        "except NameError: my_pod = \"\"\n",
        "try: learning_from_previous_week;\n",
        "except NameError: learning_from_previous_week = \"\"\n",
        "try: loss_trend;\n",
        "except NameError: loss_trend = \"\"\n",
        "try: expected_accuracies;\n",
        "except NameError: expected_accuracies = \"\"\n",
        "try: memorize_or_generalize;\n",
        "except NameError: memorize_or_generalize = \"\"\n",
        "try: early_stopping;\n",
        "except NameError: early_stopping = \"\"\n",
        "try: l1_l2_assumption;\n",
        "except NameError: l1_l2_assumption = \"\"\n",
        "try: variation;\n",
        "except NameError: variation = \"\"\n",
        "try: train_generalize;\n",
        "except NameError: train_generalize = \"\"\n",
        "try: dropout;\n",
        "except NameError: dropout = \"\"\n",
        "try: lambda1;\n",
        "except NameError: lambda1 = \"\"\n",
        "try: lambda2;\n",
        "except NameError: lambda2 = \"\"\n",
        "try: Elastic_net;\n",
        "except NameError: Elastic_net = \"\"\n",
        "try: data_augment;\n",
        "except NameError: data_augment = \"\"\n",
        "try: dp_diff;\n",
        "except NameError: dp_diff = \"\"\n",
        "\n",
        "times = [(t-t0) for t in [t1,t2,t3,t4,t5,t6,t7]]\n",
        "\n",
        "fields = {\"pennkey\": pennkey,\n",
        "          \"my_pod\": my_pod,\n",
        "          \"learning_from_previous_week\":learning_from_previous_week,\n",
        "          \"loss_trend\": loss_trend,\n",
        "          \"expected_accuracies\": expected_accuracies,\n",
        "          \"memorize_or_generalize\": memorize_or_generalize,\n",
        "          \"early_stopping\": early_stopping,\n",
        "          \"l1_l2_assumption\": l1_l2_assumption,\n",
        "          \"variation\": variation,\n",
        "          \"train_generalize\": train_generalize,\n",
        "          \"dropout\": dropout,\n",
        "          \"lambda1\":lambda1,\n",
        "          \"lambda2\":lambda2,\n",
        "          \"Elastic_net\":Elastic_net,\n",
        "          \"data_augment\":data_augment,\n",
        "          \"dp_diff\": dp_diff,\n",
        "          \"cumulative_times\": times\n",
        "        }\n",
        "\n",
        "src = \"https://airtable.com/embed/shrkmCe3MYALyzZuG?\"\n",
        "\n",
        "#now instead of the original source url, we do: src = prefill_form(src, fields)\n",
        "display(IFrame(src = prefill_form(src, fields), width = 800, height = 400))\n"
      ],
      "execution_count": null,
      "outputs": [
        {
          "output_type": "display_data",
          "data": {
            "text/html": [
              "\n",
              "        <iframe\n",
              "            width=\"800\"\n",
              "            height=\"400\"\n",
              "            src=\"https://airtable.com/embed/shrkmCe3MYALyzZuG?prefill_pennkey=&prefill_my_pod=discreet-reindeer&prefill_learning_from_previous_week=%25+%5B%5D%5B%5D%5B%22+%22&prefill_loss_trend=436565%25&prefill_expected_accuracies=vhvhjhjg&prefill_memorize_or_generalize=%5B%5D%5B%5D%5B%5D%5B%5D%5B%5D%5B%5D%5B%5D%5B%5D%5B&prefill_early_stopping=%25%22+%22&prefill_l1_l2_assumption=kkk&prefill_variation=ghghjghkl&prefill_train_generalize=&prefill_dropout=ggwp&prefill_lambda1=jjj&prefill_lambda2=&prefill_Elastic_net=ghjg&prefill_data_augment=kjkjkjkjkjkjkjkjk&prefill_dp_diff=gghg&prefill_cumulative_times=%5B2.765655517578125e-05%2C+4.601478576660156e-05%2C+7.009506225585938e-05%2C+8.7738037109375e-05%2C+0.00010466575622558594%2C+0.00012135505676269531%2C+0.00013828277587890625%5D\"\n",
              "            frameborder=\"0\"\n",
              "            allowfullscreen\n",
              "        ></iframe>\n",
              "        "
            ],
            "text/plain": [
              "<IPython.lib.display.IFrame at 0x7facc40f5d68>"
            ]
          },
          "metadata": {
            "tags": []
          }
        }
      ]
    },
    {
      "cell_type": "code",
      "metadata": {
        "colab": {
          "base_uri": "https://localhost:8080/",
          "height": 448
        },
        "id": "agD8SXBCU86n",
        "outputId": "2103aa89-3729-45d5-ce36-9f904bce8f10"
      },
      "source": [
        "#@title Video : interfacing\n",
        "try: t5;\n",
        "except NameError: t5=time.time()\n",
        "\n",
        "from IPython.display import YouTubeVideo\n",
        "print(\"Video available at https://youtube.com/watch?v=\" + video.id)\n",
        "video"
      ],
      "execution_count": null,
      "outputs": [
        {
          "output_type": "error",
          "ename": "NameError",
          "evalue": "ignored",
          "traceback": [
            "\u001b[0;31m---------------------------------------------------------------------------\u001b[0m",
            "\u001b[0;31mNameError\u001b[0m                                 Traceback (most recent call last)",
            "\u001b[0;32m<ipython-input-1-ac6655c2651f>\u001b[0m in \u001b[0;36m<module>\u001b[0;34m()\u001b[0m\n\u001b[1;32m      1\u001b[0m \u001b[0;31m#@title Video : interfacing\u001b[0m\u001b[0;34m\u001b[0m\u001b[0;34m\u001b[0m\u001b[0;34m\u001b[0m\u001b[0m\n\u001b[0;32m----> 2\u001b[0;31m \u001b[0;32mtry\u001b[0m\u001b[0;34m:\u001b[0m \u001b[0mt5\u001b[0m\u001b[0;34m;\u001b[0m\u001b[0;34m\u001b[0m\u001b[0;34m\u001b[0m\u001b[0m\n\u001b[0m\u001b[1;32m      3\u001b[0m \u001b[0;32mexcept\u001b[0m \u001b[0mNameError\u001b[0m\u001b[0;34m:\u001b[0m \u001b[0mt5\u001b[0m\u001b[0;34m=\u001b[0m\u001b[0mtime\u001b[0m\u001b[0;34m.\u001b[0m\u001b[0mtime\u001b[0m\u001b[0;34m(\u001b[0m\u001b[0;34m)\u001b[0m\u001b[0;34m\u001b[0m\u001b[0;34m\u001b[0m\u001b[0m\n",
            "\u001b[0;31mNameError\u001b[0m: name 't5' is not defined",
            "\nDuring handling of the above exception, another exception occurred:\n",
            "\u001b[0;31mNameError\u001b[0m                                 Traceback (most recent call last)",
            "\u001b[0;32m<ipython-input-1-ac6655c2651f>\u001b[0m in \u001b[0;36m<module>\u001b[0;34m()\u001b[0m\n\u001b[1;32m      1\u001b[0m \u001b[0;31m#@title Video : interfacing\u001b[0m\u001b[0;34m\u001b[0m\u001b[0;34m\u001b[0m\u001b[0;34m\u001b[0m\u001b[0m\n\u001b[1;32m      2\u001b[0m \u001b[0;32mtry\u001b[0m\u001b[0;34m:\u001b[0m \u001b[0mt5\u001b[0m\u001b[0;34m;\u001b[0m\u001b[0;34m\u001b[0m\u001b[0;34m\u001b[0m\u001b[0m\n\u001b[0;32m----> 3\u001b[0;31m \u001b[0;32mexcept\u001b[0m \u001b[0mNameError\u001b[0m\u001b[0;34m:\u001b[0m \u001b[0mt5\u001b[0m\u001b[0;34m=\u001b[0m\u001b[0mtime\u001b[0m\u001b[0;34m.\u001b[0m\u001b[0mtime\u001b[0m\u001b[0;34m(\u001b[0m\u001b[0;34m)\u001b[0m\u001b[0;34m\u001b[0m\u001b[0;34m\u001b[0m\u001b[0m\n\u001b[0m\u001b[1;32m      4\u001b[0m \u001b[0;34m\u001b[0m\u001b[0m\n\u001b[1;32m      5\u001b[0m \u001b[0;32mfrom\u001b[0m \u001b[0mIPython\u001b[0m\u001b[0;34m.\u001b[0m\u001b[0mdisplay\u001b[0m \u001b[0;32mimport\u001b[0m \u001b[0mYouTubeVideo\u001b[0m\u001b[0;34m\u001b[0m\u001b[0;34m\u001b[0m\u001b[0m\n",
            "\u001b[0;31mNameError\u001b[0m: name 'time' is not defined"
          ]
        }
      ]
    },
    {
      "cell_type": "code",
      "metadata": {
        "id": "SHuDuybp5GV7"
      },
      "source": [
        ""
      ],
      "execution_count": null,
      "outputs": []
    },
    {
      "cell_type": "markdown",
      "metadata": {
        "id": "LU2phW9PrXnP"
      },
      "source": [
        "#Thought Question\n",
        "Why does it work better to regularize an overparameterized ANN than to start with a smaller one? [think about  the regularization  methods you know]\n",
        "Each group has a 10 min discussion."
      ]
    },
    {
      "cell_type": "code",
      "metadata": {
        "id": "6QSIMHQhr0T9",
        "cellView": "form"
      },
      "source": [
        "#@markdown Summerize your discussion\n",
        "question_of_the_week = '' #@param {type:\"string\"}"
      ],
      "execution_count": null,
      "outputs": []
    },
    {
      "cell_type": "markdown",
      "metadata": {
        "id": "YwuWbZRz5Gp3"
      },
      "source": [
        "# Setup (partially redundant -and needs to be earlier)\n",
        "Note that some of the code for today can take up to an hour to run. We have therefore \"hidden\" that code and shown the resulting outputs.\n",
        "\n",
        "[Here](https://docs.google.com/presentation/d/1n4eA5VGG8ab0mkW1kJK5egaldJR4cnpFAHDVbkVPnRI/edit#slide=id.gb88533964a_0_198) are the slides for today's videos (in case you want to take notes). **Do not read them now.**"
      ]
    },
    {
      "cell_type": "code",
      "metadata": {
        "cellView": "form",
        "id": "rGD5AvuC5Gp3"
      },
      "source": [
        "# @title Figure Settings\n",
        "import ipywidgets as widgets\n",
        "%matplotlib inline \n",
        "fig_w, fig_h = (8, 6)\n",
        "plt.rcParams.update({'figure.figsize': (fig_w, fig_h)})\n",
        "%config InlineBackend.figure_format = 'retina'\n",
        "SMALL_SIZE = 12\n",
        "\n",
        "plt.rcParams.update(plt.rcParamsDefault)\n",
        "plt.rc('animation', html='jshtml')\n",
        "plt.rc('font', size=SMALL_SIZE)          # controls default text sizes\n",
        "plt.rc('axes', titlesize=SMALL_SIZE)     # fontsize of the axes title\n",
        "plt.rc('axes', labelsize=SMALL_SIZE)    # fontsize of the x and y labels\n",
        "plt.rc('xtick', labelsize=SMALL_SIZE)    # fontsize of the tick labels\n",
        "plt.rc('ytick', labelsize=SMALL_SIZE)    # fontsize of the tick labels\n",
        "plt.rc('legend', fontsize=SMALL_SIZE)    # legend fontsize\n",
        "plt.rc('figure', titlesize=SMALL_SIZE)  # fontsize of the figure title"
      ],
      "execution_count": null,
      "outputs": []
    },
    {
      "cell_type": "code",
      "metadata": {
        "cellView": "form",
        "id": "2AOviIpi5Gp4"
      },
      "source": [
        "# @title Loading Animal Faces data\n",
        "%%capture\n",
        "!rm -r AnimalFaces32x32/\n",
        "!git clone https://github.com/arashash/AnimalFaces32x32\n",
        "!rm -r afhq/\n",
        "!unzip ./AnimalFaces32x32/afhq_32x32.zip"
      ],
      "execution_count": null,
      "outputs": []
    },
    {
      "cell_type": "code",
      "metadata": {
        "cellView": "form",
        "id": "T67r2ioh5Gp4"
      },
      "source": [
        "#@title Seeding for Reproducibility\n",
        "seed = 90108\n",
        "random.seed(seed)\n",
        "np.random.seed(seed)\n",
        "torch.manual_seed(seed)\n",
        "torch.cuda.manual_seed(seed)\n",
        "torch.cuda.manual_seed_all(seed)\n",
        "torch.backends.cudnn.deterministic = True\n",
        "torch.backends.cudnn.benchmark = True\n",
        "torch.backends.cudnn.enabled = True\n",
        "torch.set_deterministic(True)\n",
        "def seed_worker(worker_id):\n",
        "    worker_seed = seed % (worker_id+1)\n",
        "    np.random.seed(worker_seed)\n",
        "    random.seed(worker_seed)"
      ],
      "execution_count": null,
      "outputs": []
    },
    {
      "cell_type": "code",
      "metadata": {
        "cellView": "form",
        "id": "999Iz1HJ5Gp4"
      },
      "source": [
        "# @title Helper functions\n",
        "def imshow(img):\n",
        "    img = img / 2 + 0.5\n",
        "    npimg = img.numpy()\n",
        "    plt.imshow(np.transpose(npimg, (1, 2, 0)))\n",
        "    plt.axis(False)\n",
        "    plt.show()\n",
        "\n",
        "def train(args, model, device, train_loader, optimizer, epoch,reg_function1=None,reg_function2=None,criterion=F.nll_loss):\n",
        "    model.train()\n",
        "    for batch_idx, (data, target) in enumerate(train_loader):\n",
        "        data, target = data.to(device), target.to(device)\n",
        "        optimizer.zero_grad()\n",
        "        output = model(data)\n",
        "        if reg_function1 is None:\n",
        "          loss = criterion(output, target)\n",
        "        elif reg_function2 is None:\n",
        "          loss = criterion(output, target)+args['lambda']*reg_function1(model)\n",
        "        else:\n",
        "          loss = criterion(output, target)+args['lambda1']*reg_function1(model)+args['lambda2']*reg_function2(model)\n",
        "        loss.backward()\n",
        "        optimizer.step()\n",
        "        # if (batch_idx % args['log_interval'] == 0 and batch_idx != 0):\n",
        "            # print('Train Epoch: {} [{}/{} ({:.0f}%)]\\tLoss: {:.6f}'.format(\n",
        "                # epoch, batch_idx * len(data), len(train_loader.dataset),\n",
        "                # 100. * batch_idx / len(train_loader), loss.item()))\n",
        "\n",
        "def test(model, device, test_loader, loader = 'Test',criterion=F.nll_loss):\n",
        "    model.eval()\n",
        "    test_loss = 0\n",
        "    correct = 0\n",
        "    with torch.no_grad():\n",
        "        for data, target in test_loader:\n",
        "            data, target = data.to(device), target.to(device)\n",
        "            output = model(data)\n",
        "            test_loss += criterion(output, target, reduction='sum').item()  # sum up batch loss\n",
        "            pred = output.argmax(dim=1, keepdim=True)  # get the index of the max log-probability\n",
        "            correct += pred.eq(target.view_as(pred)).sum().item()\n",
        "\n",
        "    test_loss /= len(test_loader.dataset)\n",
        "\n",
        "    # print('\\n{} set: Average loss: {:.4f}, Accuracy: {}/{} ({:.4f}%)\\n'.format(\n",
        "        # loader, test_loss, correct, len(test_loader.dataset),\n",
        "        # 100. * correct / len(test_loader.dataset)))\n",
        "    return 100. * correct / len(test_loader.dataset)\n",
        "\n",
        "def main(args, model,train_loader,val_loader,test_data,reg_function1=None,reg_function2=None,criterion=F.nll_loss):\n",
        "  \"\"\"\n",
        "  Trains the model with train_loader and tests the learned model using val_loader\n",
        "  \"\"\"\n",
        "\n",
        "  use_cuda = not args['no_cuda'] and torch.cuda.is_available()\n",
        "  device = torch.device('cuda' if use_cuda else 'cpu') \n",
        "\n",
        "  model = model.to(device)\n",
        "  optimizer = optim.SGD(model.parameters(), lr=args['lr'], momentum=args['momentum'])\n",
        "\n",
        "  best_acc  = 0.0\n",
        "  best_epoch = 0\n",
        "\n",
        "  val_acc_list, train_acc_list,param_norm_list = [], [], []\n",
        "  for epoch in tqdm(range(args['epochs'])):\n",
        "      train(args, model, device, train_loader, optimizer, epoch,reg_function1=reg_function1,reg_function2=reg_function2)\n",
        "      train_acc = test(model,device,train_loader, 'Train')\n",
        "      val_acc = test(model,device,val_loader, 'Val')\n",
        "      param_norm = calculate_frobenius_norm(model)\n",
        "      train_acc_list.append(train_acc)\n",
        "      val_acc_list.append(val_acc)\n",
        "      param_norm_list.append(param_norm)\n",
        "\n",
        "  return val_acc_list, train_acc_list, param_norm_list, model, best_epoch\n",
        "\n",
        "def calculate_frobenius_norm(model):\n",
        "    norm = 0.0\n",
        "\n",
        "    for name,param in model.named_parameters():\n",
        "        norm += torch.norm(param).data**2\n",
        "    return norm**0.5\n",
        "\n"
      ],
      "execution_count": null,
      "outputs": []
    },
    {
      "cell_type": "code",
      "metadata": {
        "cellView": "form",
        "id": "cJMeLwfG5Gp5",
        "colab": {
          "base_uri": "https://localhost:8080/",
          "height": 263
        },
        "outputId": "d272b061-30bb-4989-efce-a8f4fa983eba"
      },
      "source": [
        "# @title Network Classes for Animal Faces\n",
        "class Animal_Net(nn.Module):\n",
        "    def __init__(self):\n",
        "        super(Animal_Net, self).__init__()\n",
        "        self.fc1 = nn.Linear(3*32*32, 128)\n",
        "        self.fc2 = nn.Linear(128, 32)\n",
        "        self.fc3 = nn.Linear(32, 3)\n",
        "\n",
        "    def forward(self, x):\n",
        "        x = x.view(x.shape[0],-1)\n",
        "        x = F.relu(self.fc1(x))\n",
        "        x = F.relu(self.fc2(x))\n",
        "        x = self.fc3(x)\n",
        "        output = F.log_softmax(x, dim=1)\n",
        "        return output\n",
        "\n",
        "\n",
        "class Big_Animal_Net(nn.Module):\n",
        "    def __init__(self):\n",
        "        torch.manual_seed(104)\n",
        "        super(Big_Animal_Net, self).__init__()\n",
        "        self.fc1 = nn.Linear(3*32*32, 124)\n",
        "        self.fc2 = nn.Linear(124, 64)\n",
        "        self.fc3 = nn.Linear(64, 3)\n",
        "\n",
        "    def forward(self, x):\n",
        "        x = x.view(x.shape[0],-1)\n",
        "        x = F.leaky_relu(self.fc1(x))\n",
        "        x = F.leaky_relu(self.fc2(x))\n",
        "        x = self.fc3(x)\n",
        "        output = F.log_softmax(x, dim=1)\n",
        "        return output"
      ],
      "execution_count": null,
      "outputs": [
        {
          "output_type": "error",
          "ename": "NameError",
          "evalue": "ignored",
          "traceback": [
            "\u001b[0;31m---------------------------------------------------------------------------\u001b[0m",
            "\u001b[0;31mNameError\u001b[0m                                 Traceback (most recent call last)",
            "\u001b[0;32m<ipython-input-1-21a336863c21>\u001b[0m in \u001b[0;36m<module>\u001b[0;34m()\u001b[0m\n\u001b[1;32m      1\u001b[0m \u001b[0;31m# @title Network Classes for Animal Faces\u001b[0m\u001b[0;34m\u001b[0m\u001b[0;34m\u001b[0m\u001b[0;34m\u001b[0m\u001b[0m\n\u001b[0;32m----> 2\u001b[0;31m \u001b[0;32mclass\u001b[0m \u001b[0mAnimal_Net\u001b[0m\u001b[0;34m(\u001b[0m\u001b[0mnn\u001b[0m\u001b[0;34m.\u001b[0m\u001b[0mModule\u001b[0m\u001b[0;34m)\u001b[0m\u001b[0;34m:\u001b[0m\u001b[0;34m\u001b[0m\u001b[0;34m\u001b[0m\u001b[0m\n\u001b[0m\u001b[1;32m      3\u001b[0m     \u001b[0;32mdef\u001b[0m \u001b[0m__init__\u001b[0m\u001b[0;34m(\u001b[0m\u001b[0mself\u001b[0m\u001b[0;34m)\u001b[0m\u001b[0;34m:\u001b[0m\u001b[0;34m\u001b[0m\u001b[0;34m\u001b[0m\u001b[0m\n\u001b[1;32m      4\u001b[0m         \u001b[0msuper\u001b[0m\u001b[0;34m(\u001b[0m\u001b[0mAnimal_Net\u001b[0m\u001b[0;34m,\u001b[0m \u001b[0mself\u001b[0m\u001b[0;34m)\u001b[0m\u001b[0;34m.\u001b[0m\u001b[0m__init__\u001b[0m\u001b[0;34m(\u001b[0m\u001b[0;34m)\u001b[0m\u001b[0;34m\u001b[0m\u001b[0;34m\u001b[0m\u001b[0m\n\u001b[1;32m      5\u001b[0m         \u001b[0mself\u001b[0m\u001b[0;34m.\u001b[0m\u001b[0mfc1\u001b[0m \u001b[0;34m=\u001b[0m \u001b[0mnn\u001b[0m\u001b[0;34m.\u001b[0m\u001b[0mLinear\u001b[0m\u001b[0;34m(\u001b[0m\u001b[0;36m3\u001b[0m\u001b[0;34m*\u001b[0m\u001b[0;36m32\u001b[0m\u001b[0;34m*\u001b[0m\u001b[0;36m32\u001b[0m\u001b[0;34m,\u001b[0m \u001b[0;36m128\u001b[0m\u001b[0;34m)\u001b[0m\u001b[0;34m\u001b[0m\u001b[0;34m\u001b[0m\u001b[0m\n",
            "\u001b[0;31mNameError\u001b[0m: name 'nn' is not defined"
          ]
        }
      ]
    },
    {
      "cell_type": "code",
      "metadata": {
        "cellView": "form",
        "id": "qwjnoTki5Gp5"
      },
      "source": [
        "# @title Dataloder\n",
        "batch_size = 128\n",
        "classes = ('cat', 'dog', 'wild')\n",
        "\n",
        "train_transform = transforms.Compose([\n",
        "     transforms.RandomRotation(10),\n",
        "     transforms.RandomHorizontalFlip(),\n",
        "     transforms.ToTensor(),\n",
        "     transforms.Normalize((0.5, 0.5, 0.5), (0.5, 0.5, 0.5))  \n",
        "     ])\n",
        "\n",
        "data_path = pathlib.Path('.')/'afhq' # using pathlib to be compatible with all OS's\n",
        "img_dataset = ImageFolder(data_path/'train', transform=train_transform)\n",
        "img_train_data, img_val_data,_ = torch.utils.data.random_split(img_dataset, [100,100,14430])\n",
        "\n",
        "train_loader = torch.utils.data.DataLoader(img_train_data,batch_size=batch_size,worker_init_fn=seed_worker)\n",
        "val_loader = torch.utils.data.DataLoader(img_val_data,batch_size=1000,worker_init_fn=seed_worker)\n",
        "\n",
        "test_transform = transforms.Compose([\n",
        "     transforms.ToTensor(),\n",
        "     transforms.Normalize((0.5, 0.5, 0.5), (0.5, 0.5, 0.5))\n",
        "     ])\n",
        "img_test_dataset = ImageFolder(data_path/'val', transform=test_transform)"
      ],
      "execution_count": null,
      "outputs": []
    },
    {
      "cell_type": "markdown",
      "metadata": {
        "id": "joL4AygZv96J"
      },
      "source": [
        "Hyper-Parameter tuning is often difficult and time consuming.  It is a key part of training any Deep Learning model to give good generalization. There are a few techniques that we can use to guide us during the search. \n",
        "\n",
        "\n",
        "\n",
        "*   Grid Search: Try all possible combinations of hyperparameters\n",
        "*   Random Search: Randomly try different combinations of hyperparameters\n",
        "*   Coordinate-wise Gradient Descent: Start at one set of hyperparameters and try changing one at a time, accept any changes that reduce your validation error\n",
        "*   Bayesian Optimization/ Auto ML:  Start from a set of hyperparameters that have worked well on a similar problem, and then do some sort of local exploration (e.g. gradient descent) from there.\n",
        "\n",
        "There are lots of choices, like what range to explore over, which parameter to optimize first, etc. Some hyperparameters don’t matter much (people use a dropout of either 0.5 or 0, but not much else).  Others can matter a lot more (e.g. size and depth of the neural net). The key is to see what worked on similar problems.\n",
        "\n",
        "One can automate the process of tuning the network Architecture using \"Neural Architecture Search\", which designs new architectures using a few building blocks (Linear, Convolutional, Convolution Layers, etc.) and optimizes the design based on performance using a wide range of techniques such as Grid Search, Reinforcement Learning, GD, Evolutionary Algorithms, etc. This obviously requires very high computer power. Read this [article](https://lilianweng.github.io/lil-log/2020/08/06/neural-architecture-search.html) to learn more about NAS.    \n"
      ]
    },
    {
      "cell_type": "markdown",
      "metadata": {
        "id": "3qaOATxHS8TR"
      },
      "source": [
        "#Section 10: Stochastic Gradient Descent\n",
        "\n",
        "(Time Estimate: XX min from start)"
      ]
    },
    {
      "cell_type": "code",
      "metadata": {
        "id": "DV1QFxoRpHm2",
        "cellView": "form"
      },
      "source": [
        "#@title Video : SGD\n",
        "try: t2;\n",
        "except NameError: t2=time.time()\n",
        "\n",
        "from IPython.display import YouTubeVideo\n",
        "video = YouTubeVideo(id=\"E3g2Z-ZqMZw\", width=854, height=480, fs=1)\n",
        "print(\"Video available at https://youtube.com/watch?v=\" + video.id)\n",
        "\n",
        "video"
      ],
      "execution_count": null,
      "outputs": []
    },
    {
      "cell_type": "markdown",
      "metadata": {
        "id": "hxRoCUOaXAXz"
      },
      "source": [
        "## Learning Rate\n",
        "In this section, we will see how learning rate can act as regularizer while training the neural network. In summary:\n",
        "\n",
        "\n",
        "*   Smaller Learning rates regularize less. They slowly converges to a local deep minima. \n",
        "*   Larger Learning rates regularizes more by missing local minimas and finding a broader, flatter minima. These minima may be more robust.\n",
        "\n",
        "But beware, taking a very large learning rate may result in overshooting or finding a really bad local minimum.\n",
        "\n",
        "\n",
        "\n",
        "In the  blockbelow we will train the Animal Net model with different learning rates and see how that affects the regularization."
      ]
    },
    {
      "cell_type": "code",
      "metadata": {
        "id": "-sbY2JYF1maP",
        "cellView": "form"
      },
      "source": [
        "#@title Generating Data Loaders\n",
        "batch_size = 128\n",
        "train_transform = transforms.Compose([\n",
        "     transforms.ToTensor(),\n",
        "     transforms.Normalize((0.5, 0.5, 0.5), (0.5, 0.5, 0.5))    \n",
        "     ])\n",
        "\n",
        "data_path = pathlib.Path('.')/'afhq' # using pathlib to be compatible with all OS's\n",
        "img_dataset = ImageFolder(data_path/'train', transform=train_transform)\n",
        "img_train_data, img_val_data, = torch.utils.data.random_split(img_dataset, [11700,2930])\n",
        "\n",
        "full_train_loader = torch.utils.data.DataLoader(img_train_data,batch_size=batch_size,num_workers=4,worker_init_fn=seed_worker)\n",
        "full_val_loader = torch.utils.data.DataLoader(img_val_data,batch_size=1000,num_workers=4,worker_init_fn=seed_worker)\n",
        "\n",
        "test_transform = transforms.Compose([\n",
        "     transforms.ToTensor(),\n",
        "     transforms.Normalize((0.5, 0.5, 0.5), (0.5, 0.5, 0.5))    # [TO-DO]\n",
        "     ])\n",
        "img_test_dataset = ImageFolder(data_path/'val', transform=test_transform)\n",
        "# img_test_loader = DataLoader(img_test_dataset, batch_size=batch_size,shuffle=False, num_workers=1)\n",
        "classes = ('cat', 'dog', 'wild')"
      ],
      "execution_count": null,
      "outputs": []
    },
    {
      "cell_type": "code",
      "metadata": {
        "id": "FFWmkt9O-047"
      },
      "source": [
        "args = {'test_batch_size': 1000,\n",
        "        'epochs': 350,\n",
        "        'batch_size': 32,\n",
        "        'momentum': 0.99,\n",
        "        'no_cuda': False\n",
        "        }\n",
        "\n",
        "lr = [5e-4,1e-3, 5e-3]\n",
        "acc_dict = {}\n",
        "\n",
        "for i in range(len(lr)):\n",
        "    model = Animal_Net()\n",
        "    args['lr'] = lr[i]\n",
        "    val_acc, train_acc, param_norm,_,_ = main(args,model,train_loader,val_loader,img_test_dataset)\n",
        "    acc_dict['val_'+str(i)] = val_acc\n",
        "    acc_dict['train_'+str(i)] = train_acc\n",
        "    acc_dict['param_norm'+str(i)] = param_norm"
      ],
      "execution_count": null,
      "outputs": []
    },
    {
      "cell_type": "code",
      "metadata": {
        "id": "80-gI9BJU1Dm",
        "cellView": "form"
      },
      "source": [
        "#@title Plot Train and Validation accuracy (Run me)\n",
        "plt.plot(acc_dict['val_0'], linestyle='dashed',label='lr = 5e-4 - validation', c = 'blue')\n",
        "plt.plot(acc_dict['train_0'],label = '5e-4 - train', c = 'blue')\n",
        "plt.plot(acc_dict['val_1'], linestyle='dashed',label='lr = 1e-3 - validation', c = 'green')\n",
        "plt.plot(acc_dict['train_1'],label='1e-3 - train', c = 'green')\n",
        "plt.plot(acc_dict['val_2'], linestyle='dashed',label='lr = 5e-3 - validation', c = 'purple')\n",
        "plt.plot(acc_dict['train_2'],label = '5e-3 - train', c = 'purple')\n",
        "plt.title('Optimal Learning Rate')\n",
        "plt.ylabel('Accuracy (%)')\n",
        "plt.xlabel('Epoch')\n",
        "print('Maximum Test Accuracy obtained with lr = 5e-4: '+str(max(acc_dict['val_0'])))\n",
        "print('Maximum Test Accuracy obtained with lr = 1e-3: '+str(max(acc_dict['val_1'])))\n",
        "print('Maximum Test Accuracy obtained with lr = 5e-3: '+str(max(acc_dict['val_2'])))\n",
        "plt.legend()\n",
        "plt.show()"
      ],
      "execution_count": null,
      "outputs": []
    },
    {
      "cell_type": "code",
      "metadata": {
        "id": "qBYNBuov0rmU",
        "cellView": "form"
      },
      "source": [
        "#@title Plot parametric norms (Run me)\n",
        "plt.plot(acc_dict['param_norm0'],label='lr = 5e-4',c='blue')\n",
        "plt.plot(acc_dict['param_norm1'],label = 'lr = 1e-3',c='green')\n",
        "plt.plot(acc_dict['param_norm2'],label ='lr = 5e-3', c='red')\n",
        "plt.legend()\n",
        "plt.xlabel('epoch')\n",
        "plt.ylabel('parameter norms')\n",
        "plt.show()"
      ],
      "execution_count": null,
      "outputs": []
    },
    {
      "cell_type": "markdown",
      "metadata": {
        "id": "ECKFAMOrN5Fy"
      },
      "source": [
        "In the model above, we observe something different from what we expected. Why do you think this is happening?"
      ]
    },
    {
      "cell_type": "code",
      "metadata": {
        "id": "uBH50aWCOCnB",
        "cellView": "form"
      },
      "source": [
        "#@markdown Write down the answer\n",
        "learning_rate = '' #@param {type:\"string\"}"
      ],
      "execution_count": null,
      "outputs": []
    },
    {
      "cell_type": "markdown",
      "metadata": {
        "id": "u4yoYTBYtQ76"
      },
      "source": [
        "#Section 9: Hyperparameter Tuning\n",
        "(15 min from start)"
      ]
    },
    {
      "cell_type": "code",
      "metadata": {
        "cellView": "form",
        "id": "L6iiQE2zt77F"
      },
      "source": [
        "#@title Video : Tuning Methods\n",
        "try: t1;\n",
        "except NameError: t1=time.time()\n",
        "\n",
        "from IPython.display import YouTubeVideo\n",
        "video = YouTubeVideo(id=\"-ly5hwbpx-w\", width=854, height=480, fs=1)\n",
        "print(\"Video available at https://youtube.com/watch?v=\" + video.id)\n",
        "\n",
        "video"
      ],
      "execution_count": null,
      "outputs": []
    },
    {
      "cell_type": "markdown",
      "metadata": {
        "id": "_CiUt2gxxZ_t"
      },
      "source": [
        "add some questions about the different search methods to make clear that grid search scales exponenetially in the number of things being tuned. Stochastic gradient descent in hyperparameter space is fast, but of course not optimal\n"
      ]
    },
    {
      "cell_type": "markdown",
      "metadata": {
        "id": "MJZMeMTm1NG6"
      },
      "source": [
        "Which regualarization technique from this week do you think had the biggest effect on the network and why do you think so? Can you apply all of them on the same network?"
      ]
    },
    {
      "cell_type": "code",
      "metadata": {
        "id": "2d99_VOK1NHG",
        "cellView": "form"
      },
      "source": [
        "#@markdown Write down your discussion\n",
        "complete = 'value' #@param {type:\"string\"}"
      ],
      "execution_count": null,
      "outputs": []
    },
    {
      "cell_type": "markdown",
      "metadata": {
        "id": "vHkfVFAxTVft"
      },
      "source": [
        "#Section X: Deploying deep learning\n",
        "\n",
        "\n",
        "Here we will use the  hiroku github stack to show how to embed deep leraning in a web page."
      ]
    },
    {
      "cell_type": "markdown",
      "metadata": {
        "id": "b5HDVVEljKGQ"
      },
      "source": [
        "# Section 10: Adversarial  Attacks\n",
        "Time Estimate: (XX minutes from start)"
      ]
    },
    {
      "cell_type": "markdown",
      "metadata": {
        "id": "9kvXtjTXzavI"
      },
      "source": [
        "# New Section"
      ]
    },
    {
      "cell_type": "code",
      "metadata": {
        "id": "03YLRgGemuN6"
      },
      "source": [
        "#@title Video : Adversarial\n",
        "try: t5;\n",
        "except NameError: t5=time.time()\n",
        "\n",
        "from IPython.display import YouTubeVideo\n",
        "video = YouTubeVideo(id=\"2e-PxxlGfpM\", width=854, height=480, fs=1)\n",
        "print(\"Video available at https://youtube.com/watch?v=\" + video.id)\n",
        "video"
      ],
      "execution_count": null,
      "outputs": []
    },
    {
      "cell_type": "markdown",
      "metadata": {
        "id": "FcaFjyzR4aJo"
      },
      "source": [
        "Designing perturbations to the input data to trick any machine learning model is called Adversarial attacks. These attacks are an inevitable consequence of learning in high dimensional search space and complex decision boundaries. Depending on the application these attacks can be very dangerous.\n",
        "\n",
        "![Adversarial Examples of a Stop Sign](https://media.springernature.com/lw685/springer-static/image/art%3A10.1186%2Fs13638-020-01775-5/MediaObjects/13638_2020_1775_Fig1_HTML.png?as=webp)\n",
        "\n",
        "Hence, it is important for us to build models which can defend against such attcks. One possible way to do it is by reducing the dimensionality of the network which is also a byproduct of good regularization. A few ways of building models robust to such attachs are:\n",
        "\n",
        "\n",
        "\n",
        "*   [Defensive Distillation](https://deepai.org/machine-learning-glossary-and-terms/defensive-distillation) : Models trained via distillation are less prone to such attacks as they are trained on soft labels as there is an element of randomness in the training process.\n",
        "*   [Feature Squeezing](https://evademl.org/squeezing/): Identifies adversevial attacks for on-line classifiers whose model is being used by comparing model's perdiction before and after squeezing the input. \n",
        "* [SGD](https://arxiv.org/abs/1706.06083) You can also pick weight to minimize what the adversary is trying to maximize via SGD.\n",
        "\n",
        "In the optional supplemental project, you can design an attack and defend your model against it using regularization techniques you learned this week. \n"
      ]
    },
    {
      "cell_type": "markdown",
      "metadata": {
        "id": "mtWYUOp95GqK"
      },
      "source": [
        "---\n",
        "# Wrap up"
      ]
    },
    {
      "cell_type": "markdown",
      "metadata": {
        "id": "QBnD-X4X5GqK"
      },
      "source": [
        "## Submit responses"
      ]
    },
    {
      "cell_type": "code",
      "metadata": {
        "cellView": "form",
        "id": "_aAIWee_5GqK"
      },
      "source": [
        "#@markdown #Run Cell to Show Airtable Form\n",
        "#@markdown ##**Confirm your answers and then click \"Submit\"**\n",
        "\n",
        "import time\n",
        "import numpy as np\n",
        "import urllib.parse\n",
        "from IPython.display import IFrame\n",
        "def prefill_form(src, fields: dict):\n",
        "  '''\n",
        "  src: the original src url to embed the form\n",
        "  fields: a dictionary of field:value pairs,\n",
        "  e.g. {\"pennkey\": my_pennkey, \"location\": my_location}\n",
        "  '''\n",
        "  prefill_fields = {}\n",
        "  for key in fields:\n",
        "      new_key = 'prefill_' + key\n",
        "      prefill_fields[new_key] = fields[key]\n",
        "  prefills = urllib.parse.urlencode(prefill_fields)\n",
        "  src = src + prefills\n",
        "  return src\n",
        "\n",
        "\n",
        "#autofill time if it is not present\n",
        "try: t0;\n",
        "except NameError: t0 = time.time()\n",
        "try: t1;\n",
        "except NameError: t1 = time.time()\n",
        "try: t2;\n",
        "except NameError: t2 = time.time()\n",
        "try: t3;\n",
        "except NameError: t3 = time.time()\n",
        "try: t4;\n",
        "except NameError: t4 = time.time()\n",
        "try: t5;\n",
        "except NameError: t5 = time.time()\n",
        "\n",
        "#autofill fields if they are not present\n",
        "#a missing pennkey and pod will result in an Airtable warning\n",
        "#which is easily fixed user-side.\n",
        "try: my_pennkey;\n",
        "except NameError: my_pennkey = \"\"\n",
        "try: my_pod;\n",
        "except NameError: my_pod = \"\"\n",
        "try: question_of_the_week;\n",
        "except NameError: question_of_the_week = \"\"\n",
        "try: learning_rate;\n",
        "except NameError: learning_rate = \"\"\n",
        "try: batch_size;\n",
        "except NameError: batch_size = \"\"\n",
        "try: number_of_parameters;\n",
        "except NameError: number_of_parameters = \"\"\n",
        "try: pruning_percent;\n",
        "except NameError: pruning_percent = \"\"\n",
        "try: under_parameterized_model;\n",
        "except NameError: under_parameterized_model = \"\"\n",
        "try: pruning_re_init;\n",
        "except NameError: pruning_re_init = \"\"\n",
        "try: lottery_tickets;\n",
        "except NameError: lottery_tickets = \"\"\n",
        "try: distillation;\n",
        "except NameError: distillation = \"\"\n",
        "try: cumilative_times;\n",
        "except NameError: cumilative_times = \"\"\n",
        "try: complete;\n",
        "except NameError: complete = \"\"\n",
        "try: data;\n",
        "except NameError: data = \"\"\n",
        "\n",
        "times = [(t-t0) for t in [t1,t2,t3,t4,t5]]\n",
        "\n",
        "fields = {\"my_pennkey\": my_pennkey,\n",
        "          \"my_pod\": my_pod,\n",
        "          \"question_of_the_week\":question_of_the_week,\n",
        "          \"learning_rate\":learning_rate,\n",
        "          \"batch_size\":batch_size,\n",
        "          \"number_of_parameters\":number_of_parameters,\n",
        "          \"pruning_percent\":pruning_percent,\n",
        "          \"under_parameterized_model\":under_parameterized_model,\n",
        "          \"pruning_re_init\":pruning_re_init,\n",
        "          \"lottery_tickets\": lottery_tickets,\n",
        "          \"distillation\": complete,\n",
        "          \"cumilative_times\": times\n",
        "        }\n",
        "\n",
        "src=\"https://airtable.com/embed/shr2XivycAmugUavT?\"\n",
        "\n",
        "#now instead of the original source url, we do: src = prefill_form(src, fields)\n",
        "display(IFrame(src = prefill_form(src, fields), width = 800, height = 400))\n"
      ],
      "execution_count": null,
      "outputs": []
    },
    {
      "cell_type": "markdown",
      "metadata": {
        "id": "OJqgsLgd5GqK"
      },
      "source": [
        "## Feedback\n",
        "How could this session have been better? How happy are you in your group? How do you feel right now?\n",
        "\n",
        "Feel free to use the embeded form below or use this link:\n",
        "<a target=\"_blank\" rel=\"noopener noreferrer\" href=\"https://airtable.com/shrNSJ5ECXhNhsYss\">https://airtable.com/shrNSJ5ECXhNhsYss</a>"
      ]
    },
    {
      "cell_type": "code",
      "metadata": {
        "id": "rJS2kRFv5GqL"
      },
      "source": [
        "display(IFrame(src=\"https://airtable.com/embed/shrNSJ5ECXhNhsYss?backgroundColor=red\", width = 800, height = 400))"
      ],
      "execution_count": null,
      "outputs": []
    },
    {
      "cell_type": "markdown",
      "metadata": {
        "id": "7WcXYkb0vDvl"
      },
      "source": [
        "## Optional Supplements\n",
        "\n",
        "1.   [Understanding Generalization](https://docs.google.com/document/d/1XOaTXYBleQlDNFM1-t512RHfJXRwA4-LIejuBA6pbLY/edit)\n",
        "2.   [Adversarial Attacks](https://)"
      ]
    },
    {
      "cell_type": "code",
      "metadata": {
        "id": "HIvhG6VZ8zez"
      },
      "source": [
        "display(IFrame(src=\"https://airtable.com/embed/shrNSJ5ECXhNhsYss?backgroundColor=red\", width = 800, height = 400))"
      ],
      "execution_count": null,
      "outputs": []
    }
  ]
}